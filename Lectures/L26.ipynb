{
 "cells": [
  {
   "cell_type": "markdown",
   "id": "4940ca51",
   "metadata": {},
   "source": [
    "## Lecture 26 - Maxwell's equations"
   ]
  },
  {
   "cell_type": "markdown",
   "id": "cecc7a45",
   "metadata": {},
   "source": [
    "### Maxwell's equations\n",
    "\n",
    "[Maxwell's equations](https://en.wikipedia.org/wiki/Maxwell's_equations), named after [James Clerk Maxwell](https://en.wikipedia.org/wiki/James_Clerk_Maxwell) who first expressed them together are a set of four equations from which all electromagnetic theory can be derived.\n",
    "\n",
    "The integral form of Maxwell's equations in free space (ie., in the absence of dielectric or magnetic materials) are\n",
    "\n",
    "$\\oint\\vec{E}\\cdot d\\vec{A}=\\frac{Q}{\\varepsilon_{0}}$ (Gauss's Law)\n",
    "\n",
    "$\\oint \\vec{B}\\cdot d\\vec{A}=0$ (Magnetic equivalent of Gauss's Law)\n",
    "\n",
    "$\\oint\\vec{E}\\cdot d\\vec{l}=-\\frac{d\\Phi_{B}}{dt}$ (Faraday's Law)\n",
    "\n",
    "$\\oint\\vec{B}\\cdot d\\vec{l}=\\mu_{0}I+\\mu_{0}\\varepsilon_{0}\\frac{d\\Phi_{E}}{dt}$ (Modified form of Ampere's Law).\n",
    "\n",
    "Two of these equations require further explanation\n"
   ]
  },
  {
   "cell_type": "markdown",
   "id": "cef3aeb6",
   "metadata": {},
   "source": [
    "### Differential form of Maxwell's equations\n",
    "\n",
    "Each of Maxwell's equations can also be written in differential form (the form that is most useful will depend on the problem to be solved!)\n",
    "\n",
    "$\\oint\\vec{E}\\cdot d\\vec{A}=\\frac{Q}{\\varepsilon_{0}}\\rightarrow\\nabla\\cdot\\vec{E}=\\frac{\\rho}{\\varepsilon_{0}}$\n",
    "\n",
    "$\\oint \\vec{B}\\cdot d\\vec{A}=0\\rightarrow\\nabla\\cdot\\vec{B}=0$\n",
    "\n",
    "$\\oint\\vec{E}\\cdot d\\vec{l}=-\\frac{d\\Phi_{B}}{dt}\\rightarrow\\nabla\\times\\vec{E}=-\\frac{\\partial\\vec{B}}{\\partial t}$\n",
    "\n",
    "$\\oint\\vec{B}\\cdot d\\vec{l}=\\mu_{0}I+\\mu_{0}\\varepsilon_{0}\\frac{d\\Phi_{E}}{dt}\\rightarrow\\nabla\\times\\vec{B}=\\mu_{0}\\vec{J}+\\mu_{0}\\varepsilon_{0}\\frac{\\partial \\vec{E}}{\\partial t}$\n"
   ]
  },
  {
   "cell_type": "markdown",
   "id": "2f3e8d42",
   "metadata": {},
   "source": [
    "### Gauss's Law for Magnetism\n",
    "\n",
    "$\\oint\\vec{E}\\cdot d\\vec{A}=\\frac{Q}{\\varepsilon_{0}}$\n",
    "\n",
    "Gauss's Law for electric fields and charge tells us that a charge within a surface acts as either a source or sink of electric flux through the surface.\n",
    "\n",
    "As there are no magnetic monopoles the equivalent of Gauss's Law for magnetism is \n",
    "\n",
    "$\\oint\\vec{B}\\cdot d\\vec{A}=0$\n",
    "\n",
    "which means that for any closed surface the total magnetic flux is zero, an equal number of field lines must enter and leave the volume.\n"
   ]
  },
  {
   "cell_type": "markdown",
   "id": "f2553791",
   "metadata": {},
   "source": [
    "### Ampere's Law with Maxwell's correction\n",
    "\n",
    "So far we have considered Ampere's Law as he originally formulated it \n",
    "\n",
    "$\\oint\\vec{B}\\cdot d\\vec{l}=\\mu_{0}I$\n",
    "\n",
    "might seem somehow asymmetric when we consider Faraday's Law.\n",
    "\n",
    "$\\oint\\vec{E}\\cdot d\\vec{l}=-\\frac{d\\Phi_{B}}{dt}$ (Faraday's Law)\n",
    "\n",
    "which says that a changing magnetic field can produce an electric field, because in the original form of Ampere's Law a changing electric field does not produce a magnetic field.\n",
    "\n",
    "Maxwell corrected this asymmetry by adding a term to Ampere's law which reflects the fact that a time varying electric field actually can produce a magnetic field."
   ]
  },
  {
   "cell_type": "markdown",
   "id": "57dc59f0",
   "metadata": {},
   "source": [
    "### Ampere&#039;s Law for a capacitor\n",
    "\n",
    "![im.png](images/amperecapacitor.png)\n",
    "\n",
    "The need for a term in Ampere's Law reflecting changing electric fields can be demonstrated by considering Ampere's law with a capacitor.\n",
    "\n",
    "If we consider the top surface $S_{1}$ then $\\oint \\vec{B}\\cdot d\\vec{l}=\\mu_{0}I$ and $B=\\frac{\\mu_{0}I}{2\\pi r}$\n",
    "\n",
    "If we instead consider the bottom surface there is no current flowing through it so $B=0$. Measurement would show us that the first result is true (or we could reason that this should also be the case, our top surface could in principle be extremely far from the capacitor).\n",
    "\n",
    "We can reconcile these results by including a term involving the changing electric flux through the bottom surface. This flux can be linked to the current flowing through the wire. The charge on the capacitor\n",
    "\n",
    "$Q=CV=(\\varepsilon_{0}\\frac{A}{d})Ed=\\varepsilon_{0}AE$\n",
    "\n",
    "$\\frac{dQ}{dt}=\\varepsilon_{0}A\\frac{dE}{dt}=\\varepsilon_{0}\\frac{d\\Phi_{E}}{dt}=I$\n",
    "\n",
    "We can thus put the current and the changing electric flux on an equal footing by writing\n",
    "\n",
    "$\\oint\\vec{B}\\cdot d\\vec{l}=\\mu_{0}I+\\mu_{0}\\varepsilon_{0}\\frac{d\\Phi_{E}}{dt}$"
   ]
  },
  {
   "cell_type": "markdown",
   "id": "163a6635",
   "metadata": {},
   "source": [
    "### Displacement Current\n",
    "\n",
    "Ampere's Law with Maxwell's correction\n",
    "\n",
    "$\\oint\\vec{B}\\cdot d\\vec{l}=\\mu_{0}I+\\mu_{0}\\varepsilon_{0}\\frac{d\\Phi_{E}}{dt}$\n",
    "\n",
    "can be written as \n",
    "\n",
    "$\\oint\\vec{B}\\cdot d\\vec{l}=\\mu_{0}(I+I_{D})$\n",
    "\n",
    "Where the displacement current $I_{D}$\n",
    "\n",
    "$I_{D}=\\varepsilon_{0}\\frac{d\\Phi_{E}}{dt}$\n"
   ]
  },
  {
   "cell_type": "markdown",
   "id": "d859e816",
   "metadata": {},
   "source": [
    "### Production of Electromagnetic Waves\n",
    "\n",
    "One of the reason that Maxwell's equations are considered to be so important is that they can explain how [electromagnetic waves](https://en.wikipedia.org/wiki/Electromagnetic_radiation) can be produced from changing electromagnetic fields. This only works because of Maxwell's correction to Ampere's Law. We should note that electromagnetic waves were predicted by Maxwell before they were observed experimentally by [Heinrich Hertz](https://en.wikipedia.org/wiki/Heinrich_Hertz) (unfortunately after Maxwell had died).\n",
    "\n",
    "A key point to take in to account is that electromagnetic fields take time to reach distant points, there is a speed of propagation, which we will later show is the speed of light $c$.\n",
    "\n",
    "We will demonstrate the production of electromagnetic waves using a [dipole antenna](https://en.wikipedia.org/wiki/Dipole_antenna), which can also demonstrate standing wave and polarization phenomena.\n"
   ]
  },
  {
   "cell_type": "markdown",
   "id": "7f2152ee",
   "metadata": {},
   "source": [
    "### Dipole Antenna 1\n",
    "\n",
    "![im.png](images/halfdipole.png)\n"
   ]
  },
  {
   "cell_type": "markdown",
   "id": "c1ea7556",
   "metadata": {},
   "source": [
    "### Dipole Antenna 2\n",
    "\n",
    "![im.png](images/dipoleantenna2.png)\n",
    "\n",
    "Falstad has a nice [applet](http://www.falstad.com/emwave1/) to show the propagation of electric and magnetic fields from antennas."
   ]
  },
  {
   "cell_type": "code",
   "execution_count": null,
   "id": "aae50dc3",
   "metadata": {},
   "outputs": [],
   "source": []
  }
 ],
 "metadata": {
  "kernelspec": {
   "display_name": "Python 3 (ipykernel)",
   "language": "python",
   "name": "python3"
  },
  "language_info": {
   "codemirror_mode": {
    "name": "ipython",
    "version": 3
   },
   "file_extension": ".py",
   "mimetype": "text/x-python",
   "name": "python",
   "nbconvert_exporter": "python",
   "pygments_lexer": "ipython3",
   "version": "3.9.10"
  }
 },
 "nbformat": 4,
 "nbformat_minor": 5
}

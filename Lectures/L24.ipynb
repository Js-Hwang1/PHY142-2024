{
 "cells": [
  {
   "cell_type": "markdown",
   "id": "bd684f21",
   "metadata": {},
   "source": [
    "## Lecture 24 - AC Circuits I"
   ]
  },
  {
   "cell_type": "markdown",
   "id": "26fc34d7",
   "metadata": {},
   "source": [
    "### RC and LR circuits\n",
    "\n",
    "![im.png](images/lrandrc.png)\n",
    "\n",
    "The current changes exponentially according to $e^{-t/\\tau}$. For an RC circuit the time constant is $\\tau=RC$, for an LR circuit the time constant is $\\tau=\\frac{L}{R}$.\n",
    "\n"
   ]
  },
  {
   "cell_type": "markdown",
   "id": "10e79345",
   "metadata": {},
   "source": [
    "### Charge in an LC circuit\n",
    "\n",
    "![im.png](images/lc.png)\n",
    "\n",
    "If we have a charged capacitor in series with an inductor as shown and we close the switch then the the current that flows, according to Kirchoff's loop rule can be found from\n",
    "\n",
    "$-L\\frac{dI}{dt}+\\frac{Q}{C}=0$\n",
    "\n",
    "The current comes from the capacitor so $I=-\\frac{dQ}{dt}$ so\n",
    "\n",
    "$\\frac{d^{2}Q}{dt^{2}}+\\frac{Q}{LC}=0$\n",
    "\n",
    "This is like a [simple harmonic oscillator](https://github.com/marivifs-teaching/phy141-2022/blob/main/Lectures/Lec24.ipynb), but with charge in place of displacement! A solution to this differential equation is\n",
    "\n",
    "$Q=Q_{0}\\cos(\\omega t+\\phi)$\n",
    "\n",
    "To find $\\omega$ we substitute the solution in to the equation\n",
    "\n",
    "$-\\omega^{2}Q_{0}\\cos(\\omega t + \\phi)+\\frac{Q_{0}}{LC}\\cos(\\omega t+\\phi)=0$\n",
    "\n",
    "$(-\\omega^{2}+\\frac{1}{LC})\\cos(\\omega t+ \\phi)=0$\n",
    "\n",
    "Which requires $\\omega=\\sqrt{\\frac{1}{LC}}$"
   ]
  },
  {
   "cell_type": "markdown",
   "id": "087097a9",
   "metadata": {},
   "source": [
    "### Current in a LC circuit\n",
    "\n",
    "Now that we know the charge on the capacitor is\n",
    "\n",
    "\n",
    "$Q=Q_{0}\\cos(\\omega t+\\phi)$ and $\\omega=\\sqrt{\\frac{1}{LC}}$\n",
    "\n",
    "\n",
    "The current in the inductor is given by $I=-\\frac{dQ}{dt}=\\omega Q_{0}\\sin(\\omega t+ \\phi)$ which we can write as\n",
    "\n",
    "\n",
    "$I=I_{0}\\sin(\\omega t + \\phi)$\n",
    "\n",
    "\n",
    "where $I_{0}=\\omega Q_{0}=\\frac{Q_{0}}{\\sqrt{LC}}$\n",
    "\n",
    "\n",
    "![im.png](images/lcchargeandcurrent.png)"
   ]
  },
  {
   "cell_type": "markdown",
   "id": "68e7dad9",
   "metadata": {},
   "source": [
    "### Energy in a LC Circuit\n",
    "\n",
    "At any given time the electrical energy stored in the capacitor is \n",
    "\n",
    "$U_{E}=\\frac{1}{2}\\frac{Q^{2}}{C}=\\frac{Q_{0}^{2}}{2C}\\cos^{2}(\\omega t+\\phi)$\n",
    "\n",
    "whereas the magnetic energy stored in the inductor is\n",
    "\n",
    "$U_{B}=\\frac{1}{2}LI^{2}=\\frac{L\\omega^{2}Q_{0}^2}{2}\\sin^{2}(\\omega t + \\phi)$\n",
    "\n",
    "but as $\\omega =\\sqrt{\\frac{1}{LC}}$\n",
    "\n",
    "$U_{B}=\\frac{Q_{0}^{2}}{2C}\\sin^{2}(\\omega t+\\phi)$\n",
    "\n",
    "and we can the total energy at any given time is \n",
    "\n",
    "$U=U_{E}+U_{B}=\\frac{Q_{0}^{2}}{2C}$\n",
    "\n",
    "which is of course the energy we stored in the capacitor in the first place. The energy in the circuit is thus passed backwards and forwards between the capacitor and the inductor, where it is stored as separation of charge and magnetic field respectively."
   ]
  },
  {
   "cell_type": "markdown",
   "id": "7f5f6b17",
   "metadata": {},
   "source": [
    "### LRC Circuit\n",
    "\n",
    "As we saw previously an actual inductor has some resistance, and thus a real LC circuit is better represented by an LRC circuit in which we represent the resistance of the inductor, or other resistances in the circuit by an in series resistor $R$\n",
    "\n",
    "![im.pmg](images/rlc.png)\n",
    "\n",
    "Now Kirchoff's loop rule when the circuit is closed is \n",
    "\n",
    "$-L\\frac{dI}{dt}-IR+\\frac{Q}{C}=0$\n",
    "\n",
    "Which can be written in terms of the charge as before\n",
    "\n",
    "$L\\frac{d^{2}Q}{dt^{2}}+R\\frac{dQ}{dt}+\\frac{Q}{C}=0$\n",
    "\n",
    "and we can compare this to the differential equation for a [damped harmonic oscillator](https://github.com/marivifs-teaching/phy141-2022/blob/main/Lectures/Lec25.ipynb).\n",
    "\n",
    "When $R^{2}<\\frac{4L}{C}$ the system is underdamped and the solution to this equation is \n",
    "\n",
    "$Q=Q_{0}e^{-\\frac{R}{2L}t}\\cos(\\omega' t+\\phi)$\n",
    "\n",
    "where $\\omega'=\\sqrt{\\frac{1}{LC}-\\frac{R^{2}}{4L^{2}}}$\n",
    "\n",
    "When $R^{2}>\\frac{4L}{C}$ the system is overdamped and the charge will decay slowly.\n"
   ]
  },
  {
   "cell_type": "markdown",
   "id": "ff6476ec",
   "metadata": {},
   "source": [
    "### Resistor and AC Source\n",
    "\n",
    "If we apply a sinusoidal current to a resistor\n",
    "\n",
    "$I=I_{0}\\cos (2\\pi ft)=I_{0}\\cos (\\omega t)$\n",
    "\n",
    "From Ohm's Law $V=IR$ we get\n",
    "\n",
    "$V=I_{0}R\\cos (\\omega t)=V_{0}\\cos (\\omega t)$\n",
    "\n",
    "and we can see that the **current and voltage in a resistor are in phase with each other**."
   ]
  },
  {
   "cell_type": "markdown",
   "id": "ad33617e",
   "metadata": {},
   "source": [
    "### Inductor and AC Source\n",
    "\n",
    "For an inductor directly connected to an AC source \n",
    "$I=I_{0}\\cos (2\\pi ft)=I_{0}\\cos (\\omega t)$\n",
    "\n",
    "$V-L\\frac{dI}{dt}=0$\n",
    "\n",
    "$V=L\\frac{dI}{dt}=-\\omega LI_{0}\\sin (\\omega t)=\\omega LI_{0}\\cos (\\omega t+90^{0})=V_{0}\\cos (\\omega t+90^{o})$\n",
    "\n",
    "and we can see that the **current lags (is behind) the voltage by $90^{o}$**.\n",
    "\n",
    "As $V_{0}=\\omega LI_{0}$ we define the inductive reactance as \n",
    "\n",
    "$X_{L}=\\omega L=2\\pi f L$\n",
    "\n",
    "so that we can write\n",
    "\n",
    "$V_{0}=I_{0}X_{L}$"
   ]
  },
  {
   "cell_type": "markdown",
   "id": "aad870f8",
   "metadata": {},
   "source": [
    "### Capacitor and AC Source\n",
    "\n",
    "For a capacitor\n",
    "\n",
    "$V=\\frac{Q}{C}$\n",
    "\n",
    "and when $I=I_{0}\\cos (2\\pi ft)=I_{0}\\cos (\\omega t)$\n",
    "\n",
    "$I=\\frac{dQ}{dt}=I_{0}\\cos(\\omega t)$ leads us to\n",
    "\n",
    "$Q=\\int_{0}^{t}dQ=\\int_{0}^{t}I_{0}\\cos\\omega t\\,dt=\\frac{I_{0}}{\\omega}\\sin\\omega t$\n",
    "\n",
    "So the voltage is \n",
    "\n",
    "$V=\\frac{Q}{C}=I_{0}\\frac{1}{\\omega C}\\sin\\omega t=I_{0}\\frac{1}{\\omega C}\\cos(\\omega t-90^{o})=V_{0}\\cos(\\omega t-90^{o})$\n",
    "\n",
    "and we can see that the **current preceds (is ahead) the voltage by $90^{o}$**.\n",
    "\n",
    "As we did with inductance\n",
    "\n",
    "As $V_{0}=I_{0}(\\frac{1}{\\omega C})$ we define the capacitive reactance as \n",
    "\n",
    "$X_{C}=\\frac{1}{\\omega C}=\\frac{1}{2\\pi f C}$\n",
    "\n",
    "so that we can write\n",
    "\n",
    "$V_{0}=I_{0}X_{C}$"
   ]
  },
  {
   "cell_type": "code",
   "execution_count": null,
   "id": "c395579b",
   "metadata": {},
   "outputs": [],
   "source": []
  }
 ],
 "metadata": {
  "kernelspec": {
   "display_name": "Python 3 (ipykernel)",
   "language": "python",
   "name": "python3"
  },
  "language_info": {
   "codemirror_mode": {
    "name": "ipython",
    "version": 3
   },
   "file_extension": ".py",
   "mimetype": "text/x-python",
   "name": "python",
   "nbconvert_exporter": "python",
   "pygments_lexer": "ipython3",
   "version": "3.9.10"
  }
 },
 "nbformat": 4,
 "nbformat_minor": 5
}

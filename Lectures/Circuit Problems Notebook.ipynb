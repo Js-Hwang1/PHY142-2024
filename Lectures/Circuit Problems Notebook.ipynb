{
 "cells": [
  {
   "cell_type": "code",
   "execution_count": 2,
   "id": "2d9a5cdd",
   "metadata": {},
   "outputs": [],
   "source": [
    "import numpy as np"
   ]
  },
  {
   "cell_type": "markdown",
   "id": "50226e82",
   "metadata": {},
   "source": [
    "### Solution of problems involving ciruits and reistors"
   ]
  },
  {
   "cell_type": "markdown",
   "id": "7ee46dc4",
   "metadata": {},
   "source": [
    "![im.pnm](images/wheatstoneGeneral.png)"
   ]
  },
  {
   "cell_type": "code",
   "execution_count": 17,
   "id": "4890e4b4",
   "metadata": {},
   "outputs": [
    {
     "name": "stdout",
     "output_type": "stream",
     "text": [
      "[ 3.12500000e-01  3.12500000e-01 -1.04083409e-17  3.12500000e-01\n",
      "  3.12500000e-01]\n",
      "Req = 384.00000000000006\n"
     ]
    }
   ],
   "source": [
    "R1=240\n",
    "R2=240\n",
    "R3=10\n",
    "R4=144\n",
    "R5=144\n",
    "V =120\n",
    "A = [[1,1,0,-1,-1],\n",
    "    [R1,0,0,0,R5],\n",
    "    [0,0,R3,-R4,R5],\n",
    "    [1,0,1,0,-1],\n",
    "    [0,R2,0,R4,0]]\n",
    "b = [0,V,0,0,V]\n",
    "# Now simply solve for x\n",
    "I = np.dot(np.linalg.inv(A), b) \n",
    "#np.linalg.inv(A)  is simply the inverse of A, np.dot is the dot product\n",
    "print(I)\n",
    "\n",
    "# The equivalent resistance is given by V=Itotal*R, where Itotal=I1+I2\n",
    "\n",
    "Req=V/(I[1]+I[2])\n",
    "print(\"Req =\", Req)\n"
   ]
  },
  {
   "cell_type": "code",
   "execution_count": null,
   "id": "f44fd392",
   "metadata": {},
   "outputs": [],
   "source": []
  },
  {
   "cell_type": "code",
   "execution_count": 22,
   "id": "248a80e8",
   "metadata": {},
   "outputs": [
    {
     "name": "stdout",
     "output_type": "stream",
     "text": [
      "8.0\n",
      "13.714285714285714\n",
      "4.937142857142857e-06\n"
     ]
    }
   ],
   "source": [
    "R1=8.8\n",
    "R2=4.4\n",
    "C1=0.48e-6\n",
    "C2=0.36e-6\n",
    "V=24\n",
    "a=V-V*R1/(R1+R2)\n",
    "print(a)\n",
    "Ceq=(1/C1+1/C2)**(-1)\n",
    "Q=V*Ceq\n",
    "b=V-Q/C1\n",
    "print(b)\n",
    "print(Q)"
   ]
  },
  {
   "attachments": {},
   "cell_type": "markdown",
   "id": "d0d5dfa0",
   "metadata": {},
   "source": [
    "![im.pnm](images/prob26_31.png)"
   ]
  },
  {
   "cell_type": "code",
   "execution_count": 37,
   "id": "4f8c9c36",
   "metadata": {},
   "outputs": [
    {
     "name": "stdout",
     "output_type": "stream",
     "text": [
      "[2.40752351 1.54702194 0.86050157]\n",
      "29.257053291536046\n",
      "43.45297805642633\n",
      "72.59247648902821\n"
     ]
    }
   ],
   "source": [
    "# For problem 26.31\n",
    "\n",
    "import numpy as np\n",
    "\n",
    "R1=1\n",
    "R2=18\n",
    "R3=1\n",
    "R4=47\n",
    "R5=34\n",
    "Ra=R1+R2\n",
    "Rb=R3+R4\n",
    "Rc=R5\n",
    "E1=75\n",
    "E2=45\n",
    "\n",
    "\n",
    "\n",
    "A = [[1,-1,-1],\n",
    "    [-Ra,-Rb,0],\n",
    "    [0,-Rb,Rc]]\n",
    "b = [0,-E1-E2,-E2]\n",
    "# Now simply solve for x\n",
    "I = np.dot(np.linalg.inv(A), b) \n",
    "#np.linalg.inv(A)  is simply the inverse of A, np.dot is the dot product\n",
    "print(I)\n",
    "\n",
    "# for Voltage drops\n",
    "\n",
    "Vd=E1-(R1+R2)*I[0]\n",
    "Va=0\n",
    "print(Vd-Va)\n",
    "\n",
    "#Terminal voltage of top battery\n",
    "Vb=45-I[1]*R3\n",
    "print(Vb)\n",
    "\n",
    "#Terminal voltage of bottom Battery\n",
    "Ve=75-I[0]*R1\n",
    "print(Ve)\n"
   ]
  },
  {
   "cell_type": "markdown",
   "id": "f85d36fd",
   "metadata": {},
   "source": [
    "### Problem 26.30\n",
    "![im.pnm](images/prob26_30.png)"
   ]
  },
  {
   "cell_type": "code",
   "execution_count": null,
   "id": "a4cb11d2",
   "metadata": {},
   "outputs": [],
   "source": [
    "# I1=I2+I3, junction\n",
    "# V1 - 120I1 -82I1-64I2=0, Loop 1\n",
    "# V2 - 25 I3 +64I2 -110I3 =0, Loop2\n",
    "\n",
    "V1=58\n",
    "V2=3\n",
    "\n",
    "A = [[1,-1,-1],\n",
    "    [202,64,0],\n",
    "    [0,64, -135 ]]\n",
    "b = [0,-E1-E2,-E2]\n",
    "# Now simply solve for x\n",
    "I = np.dot(np.linalg.inv(A), b) \n",
    "#np.linalg.inv(A)  is simply the inverse of A, np.dot is the dot product\n",
    "print(I)\n"
   ]
  }
 ],
 "metadata": {
  "kernelspec": {
   "display_name": "Python 3 (ipykernel)",
   "language": "python",
   "name": "python3"
  },
  "language_info": {
   "codemirror_mode": {
    "name": "ipython",
    "version": 3
   },
   "file_extension": ".py",
   "mimetype": "text/x-python",
   "name": "python",
   "nbconvert_exporter": "python",
   "pygments_lexer": "ipython3",
   "version": "3.9.10"
  }
 },
 "nbformat": 4,
 "nbformat_minor": 5
}

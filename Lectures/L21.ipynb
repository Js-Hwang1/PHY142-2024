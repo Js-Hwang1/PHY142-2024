{
 "cells": [
  {
   "cell_type": "markdown",
   "id": "d1937385",
   "metadata": {},
   "source": [
    "## Lecture 21 - Electromagnetic Induction\n",
    "\n",
    "So far we have considered situations in which a magnetic field was produced by a current (Ampere's Law and Bior-Savart) or where forces associated to the presence of constant magnetic fields and moving currents.\n",
    "We are now going to consider what happens when the magnetic field is not constat, but changes with time.\n",
    "\n",
    "Electromagnetic induction is a phenomenon in which a changing magnetic field induces an emf."
   ]
  },
  {
   "cell_type": "markdown",
   "id": "9c1caea6",
   "metadata": {},
   "source": [
    "### Faraday's experiments with induction\n",
    "\n",
    "[Michael Faraday](https://en.wikipedia.org/wiki/Michael_Faraday) discovered the phenomenon of electromagnetic induction in 1831. (Induction was discovered at the same time independently by [Joseph Henry](https://en.wikipedia.org/wiki/Joseph_Henry), but Faraday published first.)\n",
    "\n",
    "We can easily reproduce two of [Faraday's early experiments](https://royalsocietypublishing.org/doi/10.1098/rsta.2014.0208). \n",
    "\n",
    " - DC power supply and coupled coils.\n",
    " - Magnet moved in coils."
   ]
  },
  {
   "cell_type": "markdown",
   "id": "068a10cc",
   "metadata": {},
   "source": [
    "### Magnetic flux\n",
    "\n",
    "Faraday based his law of induction around the concept of magnetic lines of force. He found that the induced emf depended on the rate of change of the total amount of magnetic field passing through an area, which we call the magnetic flux.\n",
    "\n",
    "\n",
    "$\\Phi_{B}=\\int\\vec{B}\\cdot d\\vec{A}$\n",
    "\n",
    "\n",
    "or when the magnetic field is uniform \n",
    "\n",
    "\n",
    "$\\Phi_{B}=\\vec{B}\\cdot\\vec{A}$\n",
    "\n",
    "\n",
    "![im.png](images/mangeticflux.png)\n",
    "\n",
    "In the example above the magnetic flux is\n",
    "\n",
    "$\\Phi_{B}=\\vec{B}\\cdot\\vec{A}=BA\\cos\\theta$\n",
    "\n",
    "where $A=l^{2}$.\n",
    "\n",
    "The unit of magnetic flux, is called a weber $\\mathrm{Wb}$, where $1\\mathrm{Wb}=1\\mathrm{Tm^{2}}$"
   ]
  },
  {
   "cell_type": "markdown",
   "id": "d1a47b56",
   "metadata": {},
   "source": [
    "### Faraday's Law of Induction\n",
    "\n",
    "Faraday's law of induction states that the induced emf in a circuit is equal to rate of change of magnetic flux through the circuit.\n",
    "\n",
    "$\\mathcal{E}=-\\frac{d\\Phi_{B}}{dt}$\n",
    "\n",
    "If the circuit is made of a number of loops, $N$ that are wrapped so that the same flux passes through them all the net emf in the circuit is the sum of the emf from each loop\n",
    "\n",
    "$\\mathcal{E}=-N\\frac{d\\Phi_{B}}{dt}$\n",
    "\n",
    "The negative sign in Faraday's law represents Lenz's law which states that\n",
    "\n",
    "“An induced emf is always in such a direction as to oppose the change in flux causing it”"
   ]
  },
  {
   "cell_type": "markdown",
   "id": "52fa29ca",
   "metadata": {},
   "source": [
    "### Lenz's Law\n",
    "\n",
    "“An induced emf is always in such a direction as to oppose the change in flux causing it”\n",
    "\n",
    "\n",
    "We can understand Lenz's law in terms of the current that flows through the circuit as result of the emf and the magnetic field it would produce. The magnetic field produced by the emf current is an attempt to maintain the magnetic flux. Lenz's law is a consequence of Newton's Third Law, the forces on the electrons in the conductor that produce the induced emf are the reaction forces to the whatever is causing the magnetic flux to change.\n",
    "\n",
    "We can now see how Lenz's law applies in number of situations starting with  moving a bar magnet in and out of a coil.\n",
    "\n",
    "![im.png](images/124l4fig3.jpeg)"
   ]
  },
  {
   "cell_type": "markdown",
   "id": "b697c3a3",
   "metadata": {},
   "source": [
    "### Conservation of Energy and Lenz's Law\n",
    "\n",
    "![im.png](images/pullloopoutoffield.png)\n",
    "\n",
    "We can consider conservation of energy as it applies to Lenz's law by considering what happens when a square loop is pulled out a distance $d$ from a uniform magnetic field at uniform speed $v$. As the speed is uniform the external force and the force due to the magnetic field must be equal. The force due to the magnetic field is given by\n",
    "\n",
    "$\\vec{F}=I\\vec{l}\\times\\vec{B}$\n",
    "\n",
    "which is then $F=IlB_{0}$ as the forces due to the top and bottom of the loop cancel each other out and we only consider one of the side lengths $l$ to be inside the field. The work done in moving the loop a distance $d$ is then $W=Fd=IldB_{0}$\n",
    "\n",
    "The induced emf from Faraday's Law is given by \n",
    "\n",
    "$\\mathcal{E}=-\\frac{d\\Phi_{B}}{dt}=-B_{0}\\frac{dA}{dt}=-B_{0}vl$\n",
    "\n",
    "The current can then be found from Ohm's law $I=\\frac{\\mathcal{E}}{R}$ and the power dissipated is given by $P=I^{2}R=\\mathcal{E}I=-B_{0}vlI$\n",
    "\n",
    "To find the work done we multiply by the time taken $W=I^{2}Rt=\\mathcal{E}It=-B_{0}vtlI=-IldB_{0}$ so we can see that the energy being used to move the loop is being dissipated by the current flowing through it.\n"
   ]
  },
  {
   "cell_type": "markdown",
   "id": "979c60cd",
   "metadata": {},
   "source": [
    "### Motional emf (electromotive force)\n",
    "\n",
    "A conductor moving in a magnetic field will experience a induced emf. We can consider the situation for a conducting rod moved backwards and forwards on a pair of rails which are connected to galvanometer, as in this [applet](http://ngsir.netfirms.com/j/Eng/induction/induction_js.htm).\n",
    "\n",
    "\n",
    "The emf produced is given by the change of flux \n",
    "\n",
    "\n",
    "$\\mathcal{E}=-\\frac{d\\Phi_{B}}{dt}=B\\frac{dA}{dt}=B\\frac{dll}{dt}=-Blv$\n",
    "\n",
    "\n",
    "But what about the case where the rails are not there? \n",
    "\n",
    "\n",
    "In this case the electrons still feel the force and will collect at one end of rod, so there will be a potential difference across it.   \n",
    "\n",
    "\n",
    "<em>Independent</em> of whether a current flows or not there will be an induced emf in the conducting rod and $\\mathcal{E}=-Blv$\n",
    "\n",
    "\n",
    "In the case of the rod moving in isolation we could reason this out based on the Lorentz force on the electrons in the conductor $\\vec{F}=q\\vec{v}\\times\\vec{B}\\to F=qvB$ with the emf being equivalent to the work done to bring the charge from one end of the rod to the other divided by the charge\n",
    "\n",
    "$\\mathcal{E}=\\frac{W}{q}=\\frac{qvBl}{q}=-Blv$\n"
   ]
  },
  {
   "cell_type": "markdown",
   "id": "741b4e3f",
   "metadata": {},
   "source": [
    "### Relationship between induced emf, current and force\n",
    "\n",
    "Although, an emf is generated when a conductor moves in a magnetic field whether a current flows or not, these situations are not equivalent, in a  very significant way. When a current flows there is an interaction between the current that flows and the original field that created it, which produces a force.\n",
    "\n",
    "\n",
    "We can see the effect of the force, which as we remember opposes the change in flux, and hence the motion by dropping magnets down various kinds of tubes.\n",
    "\n",
    "\n",
    "The current produced in response to an induced emf is called an [Eddy current](https://en.wikipedia.org/wiki/Eddy_current)."
   ]
  },
  {
   "cell_type": "code",
   "execution_count": null,
   "id": "87805cf9",
   "metadata": {},
   "outputs": [],
   "source": []
  }
 ],
 "metadata": {
  "kernelspec": {
   "display_name": "Python 3 (ipykernel)",
   "language": "python",
   "name": "python3"
  },
  "language_info": {
   "codemirror_mode": {
    "name": "ipython",
    "version": 3
   },
   "file_extension": ".py",
   "mimetype": "text/x-python",
   "name": "python",
   "nbconvert_exporter": "python",
   "pygments_lexer": "ipython3",
   "version": "3.9.10"
  }
 },
 "nbformat": 4,
 "nbformat_minor": 5
}

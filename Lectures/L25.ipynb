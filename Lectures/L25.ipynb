{
 "cells": [
  {
   "cell_type": "markdown",
   "id": "d0d07f2f",
   "metadata": {},
   "source": [
    "## Lecture 25 - AC Circuits II"
   ]
  },
  {
   "cell_type": "markdown",
   "id": "fe61d5b2",
   "metadata": {},
   "source": [
    "### LRC series circuit\n",
    "\n",
    "![im.png](images/lrc.png)\n",
    "\n",
    "We can begin our analysis of this circuit by applying Kirchoff&#039;s loop rule to the find potential at any given time.\n",
    "\n",
    "$V=V_{R}+V_{L}+V_{C}$\n",
    "\n",
    "However an important consequence of the voltages not being at the same phase in the different components is that the peak voltage is not experienced at the same time in each component, and so the peak source voltage $V_{0}$\n",
    "\n",
    "$V_{0}\\neq V_{R0}+V_{L0}+V_{C0}$\n",
    "\n",
    "The condition of continuity of current demands that the current throughout the circuit should always be in phase, so at any point in this circuit the current will\n",
    "\n",
    "$I=I_{0}\\cos\\omega t$"
   ]
  },
  {
   "cell_type": "markdown",
   "id": "423fc60e",
   "metadata": {},
   "source": [
    "### Phasors\n",
    "\n",
    "To understand the Phasor approach to AC circuits we can follow a very nice set of animations from [Physclips](http://www.animations.physics.unsw.edu.au/jw/AC.html).\n",
    "\n",
    "A phasor is a way of representing the voltage across a component taking into account the phase difference between the voltage and the current.\n"
   ]
  },
  {
   "cell_type": "markdown",
   "id": "0325d950",
   "metadata": {},
   "source": [
    "### Phasor for a resistor\n",
    "\n",
    "As we saw in our last lecture a resistor has a voltage in phase with the current flowing through it. So if we now represent the current as vector moving in a plane we can also represent the voltage across the resistor as a vector of magnitude  $V_{R}=I{R}$ which points in the same direction as the current flowing through it."
   ]
  },
  {
   "cell_type": "markdown",
   "id": "8f56508d",
   "metadata": {},
   "source": [
    "### Phasor for a capacitor\n",
    "\n",
    "We saw in our last lecture that in a capacitor the current leads the voltage by 90<sup>o</sup>. \n",
    "\n",
    "Also we saw that the reactance $X_{C}=\\frac{1}{\\omega C}=\\frac{1}{2\\pi f C}$ depends on frequency and so the size of the voltage phasor $V_{0}=I_{0}X_{C}$ also should."
   ]
  },
  {
   "cell_type": "markdown",
   "id": "82cdcb07",
   "metadata": {},
   "source": [
    "### Phasor for an inductor\n",
    "\n",
    "We saw in our last lecture that in an inductor the current lags the voltage by 90<sup>o</sup>. \n",
    "\n",
    "Also we saw that the reactance $X_{L}=\\omega L=2\\pi f L$ depends on frequency and so the size of the voltage phasor $V_{0}=I_{0}X_{L}$ also should.\n"
   ]
  },
  {
   "cell_type": "markdown",
   "id": "e9d7688a",
   "metadata": {},
   "source": [
    "### Phasor approach to LRC series circuit\n",
    "\n",
    "To find the total voltage in the circuit at time $t$ we add the phasors for the different components together as we would vectors. We can see that for a current $I=I_{0}\\cos\\omega t$ flowing through through the circuit the voltage will be offset by a phase $\\phi$\n",
    "\n",
    "$V=V_{0}\\cos(\\omega t + \\phi)$\n",
    "\n",
    "The peak voltage $V_{0}$ is linked to the peak current $I_{0}$ through the impedance $Z$\n",
    "\n",
    "$V_{0}=I_{0}Z$ and we can also say $V_{rms}=I_{rms}Z$\n",
    "\n",
    "The value of $Z$ is found by considering the vector sum of the voltages\n",
    "\n",
    "$V_{0}=\\sqrt{V_{R0}^{2}+(V_{L0}-V_{C0})^{2}}=I_{0}\\sqrt{R^{2}+(X_{L}-X_{C})^2}$\n",
    "\n",
    "so \n",
    "\n",
    "$Z=\\sqrt{R^{2}+(X_{L}-X_{C})^{2}}=\\sqrt{R^{2}+(\\omega L-\\frac{1}{\\omega C})^{2}}$\n",
    "\n",
    "The phase difference between the current and voltage $\\phi$ is obtained from\n",
    "\n",
    "$\\tan \\phi=\\frac{V_{L0}-V_{C0}}{V_{R0}}=\\frac{I_{0}(X_{L}-X_{C})}{I_{0}R}=\\frac{X_{L}-X_{C}}{R}$"
   ]
  },
  {
   "cell_type": "markdown",
   "id": "d24b1700",
   "metadata": {},
   "source": [
    "### Power dissipated in a LRC circuit\n",
    "\n",
    "Power in an LRC circuit is only dissipated in the resistor, and so the average power dissipated is given by\n",
    "\n",
    "$\\bar{P}=I_{RMS}^{2}R$\n",
    "\n",
    "but we may want to express this in terms of the impedance of the circuit or the $V_{RMS}$ which is applied.\n",
    "\n",
    "To do this we write\n",
    "\n",
    "$\\cos \\phi =\\frac{V_{R0}}{V_{0}}=\\frac{I_{0}R}{I_{0}Z}=\\frac{R}{Z}$\n",
    "\n",
    "which means that $R=Z\\cos\\phi$ and \n",
    "\n",
    "$\\bar{P}=I_{RMS}^{2}Z\\cos\\phi$\n",
    "\n",
    "or, as $V_{RMS}=I_{RMS}Z$\n",
    "\n",
    "$\\bar{P}=I_{RMS}V_{RMS}\\cos\\phi$"
   ]
  },
  {
   "cell_type": "markdown",
   "id": "d98cb638",
   "metadata": {},
   "source": [
    "### Resonance in an LRC circuit\n",
    "\n",
    "The RMS current in the circuit we are considering is given by\n",
    "\n",
    "$I_{RMS}=\\frac{V_{RMS}}{Z}=\\frac{V_{RMS}}{\\sqrt{R^{2}+(\\omega L-\\frac{1}{\\omega C})^{2}}}$\n",
    "\n",
    "We can see that the current should be frequency dependent and have a maximum when \n",
    "\n",
    "$(\\omega L - \\frac{1}{\\omega C})=0$\n",
    "\n",
    "which gives the resonant frequency\n",
    "\n",
    "$\\omega_{0}=\\sqrt{\\frac{1}{LC}}$\n",
    "\n",
    "![im.png](images/lrcresonance.png)"
   ]
  },
  {
   "cell_type": "markdown",
   "id": "577e60a3",
   "metadata": {},
   "source": [
    "### Complex impedance\n",
    "\n",
    "While the phasor approach gave us a nice visual picture of how a simple combination of circuit elements should respond to an AC field, a graphical addition approach would rapidly become unmanageable when more elements both in series and in parallel are added. We deal with this by representing our current, voltage and the the impedance of circuit elements in terms of [complex numbers](https://en.wikipedia.org/wiki/Complex_number). Note, that we will use the math and physics symbol for $i=\\sqrt{-1}$ electrical engineers frequently use $j$ instead, for example on [this page from hyperphysics](http://hyperphysics.phy-astr.gsu.edu/hbase/electric/impcom.html).  \n",
    "\n",
    "The starting point is [Euler's formula](https://en.wikipedia.org/wiki/Euler's_formula).\n",
    "\n",
    "$e^{i\\omega t}=\\cos\\omega t+i\\sin\\omega t$\n",
    "\n",
    "Now suppose we want to represent a voltage \n",
    "\n",
    "$V=V_{0}\\cos\\omega t$\n",
    "\n",
    "and a current which is offset by a phase $\\phi$\n",
    "\n",
    "$I=I_{0}\\cos(\\omega t - \\phi)$\n",
    "\n",
    "This can be done by instead writing\n",
    "\n",
    "$V=Re[V_{0}e^{i\\omega t}]$ and $I=Re[I_{0}e^{i(\\omega t - \\phi)}]$\n",
    "\n",
    "The advantage of doing this is that we can now express the impedance of a circuit element as $Z=\\frac{V_0}{I_{0}}e^{i\\phi}=|Z|e^{i\\phi}$ and we can see that\n",
    "\n",
    "$V=IZ$\n",
    "\n",
    "In this scheme the impedance of a resistor, capacitor and  and inductor become \n",
    "\n",
    "$Z_{R}=R$,$Z_{C}=-\\frac{i}{\\omega C}$ and  $Z_{L}=i\\omega L$"
   ]
  },
  {
   "cell_type": "markdown",
   "id": "1308e6c2",
   "metadata": {},
   "source": [
    "### Addition of impedances\n",
    "\n",
    "When connected in series complex impedances simply add together, the complex math is taking care of the vector addition we had do to previously\n",
    "\n",
    "$Z_{S}=Z_{1}+Z_{2}+Z_{3}+..$\n",
    "\n",
    "When connected in parallel, impedances, like resistors, add as reciprocals\n",
    "\n",
    "$\\frac{1}{Z_{P}}=\\frac{1}{Z_{1}}\n",
    "+\\frac{1}{Z_{2}}+\\frac{1}{Z_{3}}+..$\n"
   ]
  },
  {
   "cell_type": "markdown",
   "id": "7bf38579",
   "metadata": {},
   "source": [
    "### Series LRC revisited\n",
    "\n",
    "![im.png](images/lrc.png)\n",
    "\n",
    "$Z_{T}=R+i\\omega L-\\frac{i}{\\omega C}$\n",
    "\n",
    "$Z_{T}=|Z_{T}|e^{i\\phi}$\n",
    "\n",
    "$|Z_{T}|=\\sqrt{Z\\bar{Z}}$\n",
    "\n",
    "$\\phi=\\tan^{-1}\\frac{(\\omega L-\\frac{1}{\\omega C})}{R}$\n",
    "\n",
    "$V_{0}=I_{0}|Z_{T}|=\\sqrt{(R+i(\\omega L-\\frac{1}{\\omega C}))(R-i(\\omega L-\\frac{1}{\\omega C}))}=I_{0}\\sqrt{R^{2}+(\\omega L-\\frac{1}{\\omega C})^{2}}$"
   ]
  },
  {
   "cell_type": "code",
   "execution_count": null,
   "id": "71aa93b8",
   "metadata": {},
   "outputs": [],
   "source": []
  }
 ],
 "metadata": {
  "kernelspec": {
   "display_name": "Python 3 (ipykernel)",
   "language": "python",
   "name": "python3"
  },
  "language_info": {
   "codemirror_mode": {
    "name": "ipython",
    "version": 3
   },
   "file_extension": ".py",
   "mimetype": "text/x-python",
   "name": "python",
   "nbconvert_exporter": "python",
   "pygments_lexer": "ipython3",
   "version": "3.9.10"
  }
 },
 "nbformat": 4,
 "nbformat_minor": 5
}

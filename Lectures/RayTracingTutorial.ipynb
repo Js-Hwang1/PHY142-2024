{
 "cells": [
  {
   "cell_type": "markdown",
   "id": "42089d2c",
   "metadata": {},
   "source": [
    "## Magnifying glass Ray Tracing tutorial"
   ]
  },
  {
   "cell_type": "markdown",
   "id": "292ce7f8",
   "metadata": {},
   "source": [
    "### 1.- Eye without magnifying lense\n",
    "\n",
    "![im.png](images/EyeOnly1.png)"
   ]
  },
  {
   "cell_type": "markdown",
   "id": "dda797c5",
   "metadata": {},
   "source": [
    "![im.png](images/EyeOnly2.png)\n",
    "\n",
    "Notes:\n",
    "\n",
    "* 1  Object located at near point of the eye – further than in the case with the magnifying glass\n"
   ]
  },
  {
   "cell_type": "markdown",
   "id": "1ad5752b",
   "metadata": {},
   "source": [
    "![im.png](images/EyeOnly3.png)\n",
    "\n",
    "Notes:\n",
    "\n",
    "* 1  Object located at near point of the eye – further than in the case with the magnifying glass\n"
   ]
  },
  {
   "cell_type": "markdown",
   "id": "2a01986a",
   "metadata": {},
   "source": [
    "![im.png](images/EyeOnly4.png)\n",
    "\n",
    "Notes:\n",
    "\n",
    "* 1  Object located at near point of the eye – further than in the case with the magnifying glass\n"
   ]
  },
  {
   "cell_type": "markdown",
   "id": "92478b12",
   "metadata": {},
   "source": [
    "![im.png](images/EyeOnly5.png)\n",
    "\n",
    "Notes:\n",
    "\n",
    "* 1  Object located at near point of the eye – further than in the case with the magnifying glass\n"
   ]
  },
  {
   "cell_type": "markdown",
   "id": "457c8457",
   "metadata": {},
   "source": [
    "![im.png](images/EyeOnly6.png)\n",
    "\n",
    "Notes:\n",
    "\n",
    "*  Object located at near point of the eye – further than in the case with the magnifying glass\n",
    "\n",
    "*   Image on the retina is much smaller than in the case with the magnifying glass\n"
   ]
  },
  {
   "cell_type": "markdown",
   "id": "876bccab",
   "metadata": {},
   "source": [
    "### 2.- Eye with Manifying lense\n",
    "\n",
    "![im.png](images/Elense1.png)"
   ]
  },
  {
   "cell_type": "markdown",
   "id": "e51d0ee3",
   "metadata": {},
   "source": [
    "![im.png](images/Elense2.png)"
   ]
  },
  {
   "cell_type": "markdown",
   "id": "25ad65fa",
   "metadata": {},
   "source": [
    "![im.png](images/Elense3.png)"
   ]
  },
  {
   "cell_type": "markdown",
   "id": "1683470e",
   "metadata": {},
   "source": [
    "![im.png](images/Elense4.png)"
   ]
  },
  {
   "cell_type": "markdown",
   "id": "43f57484",
   "metadata": {},
   "source": [
    "![im.png](images/Elense5.png)"
   ]
  },
  {
   "cell_type": "markdown",
   "id": "5a318e54",
   "metadata": {},
   "source": [
    "![im.png](images/Elense6.png)\n",
    "\n",
    "Notes:\n",
    "* 1  Rays **1’ and 2’** do not cross on the RHS of the magnifying glass – no real image\n"
   ]
  },
  {
   "cell_type": "markdown",
   "id": "2522337e",
   "metadata": {},
   "source": [
    "![im.png](images/Elense7.png)\n",
    "\n",
    "Notes:\n",
    "* 1  Rays **1’ and 2’** do not cross on the RHS of the magnifying glass – no real image\n",
    "* 2  Since object is closer than fmagnifying image is virtual, larger than object and not inverted"
   ]
  },
  {
   "cell_type": "markdown",
   "id": "08f0b1f9",
   "metadata": {},
   "source": [
    "![im.png](images/Elense8.png)\n",
    "\n",
    "Notes:\n",
    "* 1  Rays **1’ and 2’** do not cross on the RHS of the magnifying glass – no real image\n",
    "* 2  Since object is closer than f, magnifying image is virtual, larger than object and not inverted"
   ]
  },
  {
   "cell_type": "markdown",
   "id": "173e5527",
   "metadata": {},
   "source": [
    "![im.png](images/Elense9.png)\n",
    "\n",
    "Notes:\n",
    "* 1  Rays **1’ and 2’** do not cross on the RHS of the magnifying glass – no real image\n",
    "* 2  Since object is closer than fmagnifying image is virtual, larger than object and not inverted"
   ]
  },
  {
   "cell_type": "markdown",
   "id": "4d4ad877",
   "metadata": {},
   "source": [
    "![im.png](images/Elense10.png)\n",
    "\n",
    "Notes:\n",
    "* 1  Rays **1’ and 2’** do not cross on the RHS of the magnifying glass – no real image\n",
    "* 2  Since object is closer than fmagnifying image is virtual, larger than object and not inverted"
   ]
  },
  {
   "cell_type": "markdown",
   "id": "cb9f694e",
   "metadata": {},
   "source": [
    "![im.png](images/Elense11.png)\n",
    "\n",
    "Notes:\n",
    "* 1  Rays **1’ and 2’** do not cross on the RHS of the magnifying glass – no real image\n",
    "* 2  Since object is closer than fmagnifying image is virtual, larger than object and not inverted"
   ]
  },
  {
   "cell_type": "markdown",
   "id": "7acfb25d",
   "metadata": {},
   "source": [
    "![im.png](images/Elense12.png)\n",
    "\n",
    "Notes:\n",
    "* 1  Rays **1’ and 2’** do not cross on the RHS of the magnifying glass – no real image\n",
    "* 2  Since object is closer than fmagnifying image is virtual, larger than object and not inverted\n",
    "* 3  Retina is **NOT** located at feye from eyelens\n",
    "* 4  **Red rays** are for image formation by magnifying glass lens, **green rays** are for image formation by eyelens"
   ]
  },
  {
   "cell_type": "code",
   "execution_count": null,
   "id": "064dbfff",
   "metadata": {},
   "outputs": [],
   "source": []
  }
 ],
 "metadata": {
  "kernelspec": {
   "display_name": "Python 3 (ipykernel)",
   "language": "python",
   "name": "python3"
  },
  "language_info": {
   "codemirror_mode": {
    "name": "ipython",
    "version": 3
   },
   "file_extension": ".py",
   "mimetype": "text/x-python",
   "name": "python",
   "nbconvert_exporter": "python",
   "pygments_lexer": "ipython3",
   "version": "3.9.10"
  }
 },
 "nbformat": 4,
 "nbformat_minor": 5
}

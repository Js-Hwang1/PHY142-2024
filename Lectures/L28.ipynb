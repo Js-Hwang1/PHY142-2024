{
 "cells": [
  {
   "cell_type": "markdown",
   "id": "75e334dd",
   "metadata": {},
   "source": [
    "## Lecture 28 - Reflection"
   ]
  },
  {
   "cell_type": "markdown",
   "id": "4acdf129",
   "metadata": {},
   "source": [
    "### Ray model of light\n",
    "\n",
    "We saw in our last lecture that light was an electromagnetic wave. We can also reason that if a wave is moving in the $x$ direction there is no reason for it to change it's amplitude or direction if it is traveling in free space. We can thus consider light to travel in straight lines, which we can also see, especially with a collimated light source such as a laser.\n",
    "\n",
    "This property means that the behavior of mirrors and lenses can be worked out with geometrical methods and a couple of fundamental rules about reflection and refraction.\n",
    "\n",
    "This method is described as geometrical optics and will be our focus for the next 4 lectures."
   ]
  },
  {
   "cell_type": "markdown",
   "id": "06844582",
   "metadata": {},
   "source": [
    "### Reflection\n",
    "\n",
    "The first rule we have is for [reflection](https://en.wikipedia.org/wiki/Reflection_(physics)). We define an angle of incidence $\\theta_{i}$ relative to the surface normal and find that the angle of reflection $\\theta_{r}$, also defined relative to the surface normal is given by \n",
    "\n",
    "$\\theta_{r}=\\theta_{i}$\n",
    "\n",
    "![im.png](images/reflection.png)\n"
   ]
  },
  {
   "cell_type": "markdown",
   "id": "155f863d",
   "metadata": {},
   "source": [
    "### Specular and diffuse reflection\n",
    "\n",
    "The reflection we have just considered is what we can expect from a smooth surface and is referred to as [specular reflection](https://en.wikipedia.org/wiki/Specular_reflection), in addition to this there is reflection from the surface and sub-surface region which occurs in all directions and is called [diffuse reflection](https://en.wikipedia.org/wiki/Diffuse_reflection). When a surface is rough the reflections from the surface occur in many different orientations and the specular reflection is not observed.\n",
    "\n",
    "![im.png](images/specularanddiffusereflection.png)"
   ]
  },
  {
   "cell_type": "markdown",
   "id": "00d94e27",
   "metadata": {},
   "source": [
    "### Forming an image in a plane mirror\n",
    "\n",
    "![im.png](images/planemirrorimage.png)\n",
    "\n"
   ]
  },
  {
   "cell_type": "markdown",
   "id": "f5484f2e",
   "metadata": {},
   "source": [
    "### Curverd mirrors: focal point and focal length\n",
    "\n",
    "To see how spherical mirrors form images, consider an object that is very far from a concave mirror.\n",
    "\n",
    "![im.png](images/concave_mirror.png)\n",
    "\n",
    "The point F, where incident parallel rays come to a focus after reflection, is called the focal point of the mirror. The distance between F and the center of the mirror, length FA, is called the focal length, f, of the mirror. The focal point is also the image point for an object infinitely far away along the principal axis. The image of the Sun, for example, would be at F.\n",
    "\n",
    "Note that only for mirrors of much smaller size than their curvature radius the image will be sharp.\n",
    "For the image to be sharp all the parallel rays must be brought to a single point.  Thus a spherical mirror will not make as sharp an image as a plane mirror."
   ]
  },
  {
   "cell_type": "markdown",
   "id": "155e3f73",
   "metadata": {},
   "source": [
    "### Parabolic mirror\n",
    "\n",
    "A [parabolic reflector](https://en.wikipedia.org/wiki/Parabolic_reflector) has the special property that any ray coming in to the mirror parallel to the principal axis of the parabola will be reflected through the focus of the parabola. \n",
    "\n",
    "For a parabola $y=ax^{2}$ the focus is at $y=\\frac{1}{4a}$\n",
    "\n",
    "![im.png](images/parabolicmirror.png)\n",
    "\n",
    "Parabolic mirrors are important in many applications including headlights,levitating pigs and [heat rays](http://www.youtube.com/watch?v=wADpzJ0XmH0).\n"
   ]
  },
  {
   "cell_type": "markdown",
   "id": "b8485295",
   "metadata": {},
   "source": [
    "### Spherical mirror\n",
    "\n",
    "Because spherical surfaces are easier to make than parabolic ones, most curved mirrors are actually [spherical reflectors](https://en.wikipedia.org/wiki/Spherical_reflector). In the case where the width of the mirror is small compared to it's radius of curvature the incoming rays are focused with a focal length\n",
    "\n",
    "$f\\approx\\frac{r}{2}$\n",
    "\n",
    "![im.png](images/sphericalmirror.png)\n",
    "\n",
    "for small $\\theta$\n",
    "\n",
    "$2x\\approx r$\n",
    "\n",
    "$x\\approx \\frac{r}{2}\\to f\\approx\\frac{r}{2}$"
   ]
  },
  {
   "cell_type": "markdown",
   "id": "6b64bf4f",
   "metadata": {},
   "source": [
    "### Mirror equation\n",
    "\n",
    "![im.pmg](images/mirrorequationnew.png)\n",
    "\n",
    "![im.pmg](images/image_spher_mirr.png)\n",
    "\n",
    "![im.pmg](images/image_spher_mirr2.png)\n",
    "\n",
    "\n",
    "Two sets of right triangles formed by the object and the image are similar triangles which give us\n",
    "\n",
    "$\\frac{h_{0}}{h_{i}}=\\frac{d_{o}}{d_{i}}$  (green triangles)\n",
    "\n",
    "and\n",
    "\n",
    "$\\frac{h_{0}}{h_{i}}=\\frac{d_{o}-f}{f}$ (purple triangles)\n",
    "\n",
    "hence\n",
    "\n",
    "$\\frac{d_{o}}{d_{i}}=\\frac{d_{o}-f}{f}$\n",
    "\n",
    "which can be rearranged to give\n",
    "\n",
    "$\\frac{1}{d_{o}}+\\frac{1}{d_{i}}=\\frac{1}{f}$\n",
    "\n",
    "The magnification of a mirror $m$\n",
    "\n",
    "$m=\\frac{h_{i}}{h_{o}}=-\\frac{d_{i}}{d_{o}}$\n"
   ]
  },
  {
   "cell_type": "markdown",
   "id": "89b79ccd",
   "metadata": {},
   "source": [
    "### Curved mirror examples\n",
    "\n",
    "Wikipedia has a nice set of diagrams for the various imaging conditions of [curved mirrors](https://en.wikipedia.org/wiki/Spherical_reflector). "
   ]
  },
  {
   "cell_type": "code",
   "execution_count": null,
   "id": "48f5bd75",
   "metadata": {},
   "outputs": [],
   "source": []
  }
 ],
 "metadata": {
  "kernelspec": {
   "display_name": "Python 3 (ipykernel)",
   "language": "python",
   "name": "python3"
  },
  "language_info": {
   "codemirror_mode": {
    "name": "ipython",
    "version": 3
   },
   "file_extension": ".py",
   "mimetype": "text/x-python",
   "name": "python",
   "nbconvert_exporter": "python",
   "pygments_lexer": "ipython3",
   "version": "3.9.10"
  }
 },
 "nbformat": 4,
 "nbformat_minor": 5
}

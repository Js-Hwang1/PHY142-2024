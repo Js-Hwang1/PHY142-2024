{
 "cells": [
  {
   "cell_type": "markdown",
   "id": "f5a381de",
   "metadata": {},
   "source": [
    "## Lecture 34 - Diffraction"
   ]
  },
  {
   "cell_type": "markdown",
   "id": "d869c2f3",
   "metadata": {},
   "source": [
    "### Single slit diffraction\n",
    "\n",
    "In our last lecture we looked at how to deal with the phase of light waves coming from two point sources in order to calculate the intensity at a given angle. We will now build on this approach to be able to find the intensity distribution when light falls on a single slit. We will only consider the case where the screen where the pattern is seen is very far away from the slit (normally referred to as [Fraunhofer diffraction](https://en.wikipedia.org/wiki/Fraunhofer_diffraction)).\n",
    "\n",
    "For this problem the complex approach is going to be much easier than the phasor approach (\"In my humble opinion\"), so we'll do it this way. The phasor approach can be found in the textbook.\n",
    "\n",
    "The field for a travelling wave can be expressed as\n",
    "\n",
    "$E=E_{0}e^{i(kr-\\omega t)}$\n",
    "\n",
    "Here $r$ is the path of propagation. In the following we ignore the temporal dependence because the frequency of visible light waves ($10^{14}-10^{15}$ Hz) is too large to be noticeable by the eye.\n",
    "\n",
    "For a point on the slit at distance x from the center of the slit can be approximated by:\n",
    "\n",
    "$E(x)=E_{0}e^{ik(r(x))}$\n",
    "\n",
    "$E(x)=E_{0}e^{ik(r-x\\sin\\theta)}$\n",
    "\n",
    "here we have assumed that the screen is far enough away that we don't need to worry about the $\\frac{1}{r}$ dependence of the field. We are also assuming that the rays are virtually parallel so that the path distance from each point is $r(x)=r-x\\sin\\theta$, where $r$ is the path from the center of the slit to the screen.\n",
    "\n",
    "![im.png](images/singleslitdiffNew.png)"
   ]
  },
  {
   "cell_type": "markdown",
   "id": "ec37494a",
   "metadata": {},
   "source": [
    "### Intensity for single slit diffraction\n",
    "\n",
    "To find the field at a given angle $E_{\\theta}$ we need to take all our contributions from the slit\n",
    "\n",
    "\n",
    "$E(x)=E_{0}e^{ik(r-x\\sin\\theta)}$\n",
    "\n",
    "and integrate. \n",
    "\n",
    "   * Note that in the intergal below I added a $dx$ term, which we need to integrate. This is not just a trick, there was an implicit asumption that I did not ellaborate on. $E(x)$ is the differential field at point x in the slit coming from a plane wave arriving to the screen. The magnitude $E_{0}$ is actually a differential magnitude which is proportional to $dx$, but I just simplified this step. For more accurate derivation see [here](https://en.wikipedia.org/wiki/Fraunhofer_diffraction).\n",
    "\n",
    "$E_{\\theta}=\\int_{-\\frac{D}{2}}^{\\frac{D}{2}}E_{0}e^{ik(r-x\\sin\\theta)}\\,dx=E_{0}e^{ikr}\\int_{-\\frac{D}{2}}^{\\frac{D}{2}}e^{-ikx\\sin\\theta}\\,dx$\n",
    "\n",
    "$=E_{0}e^{ikr}\\frac{1}{-ik\\sin\\theta}[e^{-ikx\\sin\\theta}]_{-D/2}^{D/2}=E_{0}e^{ikr}\\frac{1}{-ik\\sin\\theta}[e^{-ik\\frac{D}{2}\\sin\\theta}-e^{ik\\frac{D}{2}\\sin\\theta}]$\n",
    "\n",
    "$=E_{0}e^{ikr}\\frac{1}{-ik\\sin\\theta}[-2i\\sin(\\frac{Dk}{2}\\sin\\theta)]=E_{0}e^{ikr}\\frac{2}{k\\sin\\theta}\\sin(\\frac{Dk}{2}\\sin\\theta)$\n",
    "\n",
    "The intensity is found from $I_{\\theta}=|E_{\\theta}|^{2}$\n",
    "\n",
    "$I_{\\theta}=E_{0}^{2}\\frac{4}{k^{2}\\sin^{2}\\theta}\\sin^{2}(\\frac{Dk}{2}\\sin\\theta)=E_{0}^2D^{2}\n",
    "\\mathrm{sinc^{2}}(\\frac{Dk}{2}\\sin\\theta)$\n",
    "\n",
    "\n",
    "We have just defined the intensity in terms of the [sinc function](https://en.wikipedia.org/wiki/Sinc_function). We can now normalize the intensity with respect to the central intensity using the fact that $\\mathrm{sinc}(0)=1$\n",
    "\n",
    "$I_{0}=E_{0}^{2}{D}$\n",
    "\n",
    "so\n",
    "\n",
    "$I_{\\theta}=I_{0}\\mathrm{sinc^{2}}(\\frac{Dk}{2}\\sin\\theta)$"
   ]
  },
  {
   "cell_type": "markdown",
   "id": "44047c62",
   "metadata": {},
   "source": [
    "### Intensity pattern for a single slit\n",
    "\n",
    "Rather than writing our equation in terms of k\n",
    "\n",
    "$I_{\\theta}=I_{0}\\mathrm{sinc^{2}}(\\frac{Dk}{2}\\sin\\theta)$\n",
    "\n",
    "it is convenient to write it in terms of the wavelength, using $k=\\frac{2\\pi}{\\lambda}$\n",
    "\n",
    "$I_{\\theta}=I_{0}\\mathrm{sinc^{2}}(\\frac{D\\pi}{\\lambda}\\sin\\theta)$\n",
    "\n",
    "This function has a central maxima and then <strong>minima</strong> at \n",
    "\n",
    "$D\\sin\\theta=m\\lambda$ \n",
    "\n",
    "$m=\\pm 1,\\pm 2,\\pm 3,..$\n",
    "\n",
    "![im.png](images/slitintensity.png)"
   ]
  },
  {
   "cell_type": "markdown",
   "id": "28194555",
   "metadata": {},
   "source": [
    "### Diffraction in the double slit\n",
    "\n",
    "Now we have an expression for the intensity from a slit of width $D$\n",
    "\n",
    "$I_{\\theta}=I_{0}\\mathrm{sinc^{2}}(\\frac{D\\pi}{\\lambda}\\sin\\theta)$\n",
    "\n",
    "we can consider slits as sources instead of the point sources we considered earlier which gave\n",
    "\n",
    "$I_{\\theta}=I_{0}\\cos^{2}(\\frac{d \\pi}{\\lambda}\\sin \\theta)$\n",
    "\n",
    "The combination of these gives\n",
    "\n",
    "$I_{theta}=I_{0}\\mathrm{sinc^{2}}(\\frac{D\\pi}{\\lambda}\\sin\\theta)\\cos^{2}(\\frac{d\\pi}{\\lambda}\\sin \\theta)$\n",
    "\n",
    "![im.png](images/twoslitwithdiffraction.png)"
   ]
  },
  {
   "cell_type": "markdown",
   "id": "83bfeb08",
   "metadata": {},
   "source": [
    "### Diffraction from a circular aperture\n",
    "\n",
    "Diffraction also occurs when light is shone through a circular aperture resulting in an [Airy pattern](https://en.wikipedia.org/wiki/Airy_Disk). \n",
    "\n",
    "See more [here](https://diffractio.readthedocs.io/en/latest/source/examples/diffraction_objects.html#circle)\n"
   ]
  },
  {
   "cell_type": "markdown",
   "id": "a9640671",
   "metadata": {},
   "source": [
    "### Diffraction limit\n",
    "\n",
    "The diffraction effect that occurs for a small aperture places a [limit](http://www.cambridgeincolour.com/tutorials/diffraction-photography.htm) on the resolution that can be achieved based on the size of the lens that is used.\n"
   ]
  },
  {
   "cell_type": "code",
   "execution_count": 1,
   "id": "04cc2668",
   "metadata": {},
   "outputs": [],
   "source": [
    "# Example of single slit using difractio \n",
    "#(https://diffractio.readthedocs.io/en/latest/source/examples/diffraction_slit.html#X)\n",
    "import matplotlib\n",
    "import matplotlib.pyplot as plt\n",
    "import matplotlib.cm as cm\n",
    "import numpy as np\n",
    "\n",
    "from diffractio import degrees, mm, plt, np, um\n",
    "from diffractio.scalar_sources_XY import Scalar_source_XY\n",
    "from diffractio.scalar_masks_XY import Scalar_mask_XY\n",
    "from diffractio.utils_drawing import draw_several_fields"
   ]
  },
  {
   "cell_type": "code",
   "execution_count": 13,
   "id": "5bf8ef84",
   "metadata": {},
   "outputs": [
    {
     "data": {
      "text/plain": [
       "(<Figure size 432x288 with 1 Axes>,\n",
       " <AxesSubplot:xlabel='$x  (\\\\mu m)$', ylabel='$y  (\\\\mu m)$'>,\n",
       " <matplotlib.image.AxesImage at 0x29854edc0>)"
      ]
     },
     "execution_count": 13,
     "metadata": {},
     "output_type": "execute_result"
    },
    {
     "data": {
      "image/png": "[encoded data removed]",
      "text/plain": [
       "<Figure size 432x288 with 1 Axes>"
      ]
     },
     "metadata": {
      "needs_background": "light"
     },
     "output_type": "display_data"
    }
   ],
   "source": [
    "x0 = np.linspace(-200 * um, 200 * um, 512)\n",
    "y0 = np.linspace(-200 * um, 200 * um, 512)\n",
    "wavelength = 5 * um\n",
    "\n",
    "\n",
    "u1 = Scalar_source_XY(x=x0, y=y0, wavelength=wavelength)\n",
    "u1.plane_wave(A=1)\n",
    "\n",
    "t1 = Scalar_mask_XY(x=x0, y=y0, wavelength=wavelength)\n",
    "t1.slit(x0=0, size=5 * um, angle=0 * degrees)\n",
    "\n",
    "u2 = u1 * t1\n",
    "u2.draw()"
   ]
  },
  {
   "cell_type": "code",
   "execution_count": 14,
   "id": "9b28a957",
   "metadata": {},
   "outputs": [
    {
     "data": {
      "text/plain": [
       "(-20.0, 20.0)"
      ]
     },
     "execution_count": 14,
     "metadata": {},
     "output_type": "execute_result"
    },
    {
     "data": {
      "image/png": "[encoded data removed]",
      "text/plain": [
       "<Figure size 432x288 with 1 Axes>"
      ]
     },
     "metadata": {
      "needs_background": "light"
     },
     "output_type": "display_data"
    },
    {
     "data": {
      "image/png": "[encoded data removed]",
      "text/plain": [
       "<Figure size 432x288 with 1 Axes>"
      ]
     },
     "metadata": {
      "needs_background": "light"
     },
     "output_type": "display_data"
    }
   ],
   "source": [
    "u3 = u2.RS(z=200 * mm, new_field=True)\n",
    "u3.draw(logarithm=1e3)\n",
    "u3 = u2.fft(remove0=False, new_field=True)\n",
    "u3.cut_resample(x_limits='', y_limits='', num_points=[1024, 1024])\n",
    "u3.draw(logarithm=1)\n",
    "plt.ylim(-20,20)\n"
   ]
  },
  {
   "cell_type": "code",
   "execution_count": 15,
   "id": "a0dd6ece",
   "metadata": {},
   "outputs": [
    {
     "data": {
      "text/plain": [
       "(-200.0, 200.0)"
      ]
     },
     "execution_count": 15,
     "metadata": {},
     "output_type": "execute_result"
    },
    {
     "data": {
      "image/png": "[encoded data removed]",
      "text/plain": [
       "<Figure size 432x288 with 1 Axes>"
      ]
     },
     "metadata": {
      "needs_background": "light"
     },
     "output_type": "display_data"
    }
   ],
   "source": [
    "u3.draw_profile(point1=(u3.x[0], 0),\n",
    "                point2=(u3.x[-1], 0),\n",
    "                npixels=1024,\n",
    "                kind='intensity',\n",
    "                order=1)\n",
    "plt.xlim(-200, 200)\n"
   ]
  },
  {
   "cell_type": "code",
   "execution_count": 47,
   "id": "b3450b7c",
   "metadata": {},
   "outputs": [
    {
     "name": "stdout",
     "output_type": "stream",
     "text": [
      "9.585714285714285e-06\n",
      "0.00029907428571428565\n"
     ]
    }
   ],
   "source": [
    "theta=1.22*5.5e-7/7e-2\n",
    "print(theta)\n",
    "x=31.2 #m\n",
    "print(x*theta)"
   ]
  },
  {
   "cell_type": "code",
   "execution_count": null,
   "id": "f099677f",
   "metadata": {},
   "outputs": [],
   "source": []
  }
 ],
 "metadata": {
  "kernelspec": {
   "display_name": "Python 3 (ipykernel)",
   "language": "python",
   "name": "python3"
  },
  "language_info": {
   "codemirror_mode": {
    "name": "ipython",
    "version": 3
   },
   "file_extension": ".py",
   "mimetype": "text/x-python",
   "name": "python",
   "nbconvert_exporter": "python",
   "pygments_lexer": "ipython3",
   "version": "3.9.10"
  }
 },
 "nbformat": 4,
 "nbformat_minor": 5
}

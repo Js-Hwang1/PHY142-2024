{
 "cells": [
  {
   "cell_type": "markdown",
   "id": "c0420b77",
   "metadata": {},
   "source": [
    "### Midterm 2 Solutions - Q1 \n",
    "\n",
    "a) $y=\\frac{1}{2}gt^{2}$\n",
    "\n",
    "$t=\\sqrt{2\\times100\\times9.8}=4.52\\mathrm{s}$\n",
    "\n",
    "This answer does not depend on the magnetic field.\n",
    "\n",
    "b) clockwise\n",
    "\n",
    "c) $qvB=\\frac{mv^{2}}{r}$\n",
    "\n",
    "$r=\\frac{mv}{qB}=\\frac{0.5\\times10}{3\\times0.6}=2.78\\mathrm{m}$\n",
    "\n",
    "d) $v_{y}=gt=44.3\\mathrm{ms^{-1}}$\n",
    "\n",
    "$\\theta=\\tan^{-1}(\\frac{v_{y}}{v_{x}})=\\tan^{-1}(\\frac{44.3}{10})=77.3^{o}$\n",
    "\n",
    "e) No. Magnetic fields do no work on charged particles as $\\vec{F}=q\\vec{v}\\times\\vec{B}$ so the force is always perpendicular to the motion.\n",
    "\n",
    "f) $qE=mg$\n",
    "\n",
    "$E=\\frac{mg}{q}=\\frac{0.5\\times9.8}{3}=1.6 \\mathrm{\\frac{V}{m}}$\n"
   ]
  },
  {
   "cell_type": "markdown",
   "id": "ac273cf5",
   "metadata": {},
   "source": [
    "### Midterm 2 solutions - Q2 \n",
    "\n",
    "a) $\\vec{\\mu}=I\\vec{A}=I(\\frac{\\pi r_{2}^{2}}{2}-\\theta r_1^{2})$ in to page from right hand rule.\n",
    "\n",
    "b) $B=\\frac{\\mu_{0}I}{4\\pi}\\int \\frac{d\\vec{l}\\times \\hat{r}}{r^{2}}$\n",
    "\n",
    "For straight sections ${d\\vec{l}\\times \\hat{r}}=0$\n",
    "\n",
    "For external curved segment $B=\\frac{\\mu_{0}I}{4\\pi r_{2}^{2}}\\int dl=\\frac{\\mu_{0}I}{4\\pi r_{2}^{2}}\\int_{0}^{\\pi} r_{2}d\\theta=\\frac{\\mu_{0}I}{4\\pi r_{2}}\\pi=\\frac{\\mu_{0}I}{4r_{2}}$ in to page.\n",
    "\n",
    "For each internal curved segment $B=\\frac{\\mu_{0}I}{4\\pi r_{1}^{2}}\\int dl=\\frac{\\mu_{0}I}{4\\pi r_{1}^{2}}\\int_{0}^{\\theta} r_{1}d\\theta=\\frac{\\mu_{0}I}{4\\pi r_{1}}\\theta$ out of page.\n",
    "\n",
    "Adding them all up\n",
    "\n",
    "$B=\\mu_{0}I(\\frac{1}{4r_{2}}-\\frac{\\theta}{2\\pi r_{1}})$ in to page\n",
    "\n",
    "c) Either by using the formula in or by deduction/inspection $B=0\\mathrm{T}$"
   ]
  },
  {
   "cell_type": "markdown",
   "id": "ceffa42a",
   "metadata": {},
   "source": [
    "### Midterm 2 solutions - Q3\n",
    "\n",
    "a) I=0\n",
    "\n",
    "b) The current is anticlockwise when looking at the plane from the bottom of the ramp.\n",
    "\n",
    "c) $F_{g,\\|}=mgsin\\theta=F_{B,\\|}=IlBcos\\theta$\n",
    "\n",
    "$IR=\\mathcal{E}=\\frac{-d\\Phi}{dt}=Blvcos\\theta$\n",
    "\n",
    "$R=R1+R2=R1+\\rho l/A=0.60021\\Omega$\n",
    "\n",
    "$v =\\frac{mgRtan\\theta}{l^2B^2cos\\theta}=19.9 m/s$\n",
    "\n",
    "d) $P=\\frac{\\mathcal{E}^2}{R}=\\frac{(Blvcos\\theta)^2}{R}=2.97 W$\n",
    "\n",
    "e) When V is constant I is constant."
   ]
  },
  {
   "cell_type": "code",
   "execution_count": null,
   "id": "6731fa6b",
   "metadata": {},
   "outputs": [],
   "source": [
    "\n"
   ]
  },
  {
   "cell_type": "code",
   "execution_count": null,
   "id": "4623ed1f",
   "metadata": {},
   "outputs": [],
   "source": []
  },
  {
   "cell_type": "code",
   "execution_count": null,
   "id": "72fd619a",
   "metadata": {},
   "outputs": [],
   "source": []
  }
 ],
 "metadata": {
  "kernelspec": {
   "display_name": "Python 3 (ipykernel)",
   "language": "python",
   "name": "python3"
  },
  "language_info": {
   "codemirror_mode": {
    "name": "ipython",
    "version": 3
   },
   "file_extension": ".py",
   "mimetype": "text/x-python",
   "name": "python",
   "nbconvert_exporter": "python",
   "pygments_lexer": "ipython3",
   "version": "3.9.10"
  }
 },
 "nbformat": 4,
 "nbformat_minor": 5
}

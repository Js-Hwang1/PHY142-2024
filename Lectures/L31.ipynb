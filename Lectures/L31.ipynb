{
 "cells": [
  {
   "cell_type": "markdown",
   "id": "432dd214",
   "metadata": {},
   "source": [
    "## Lecture 31 - Optical Instruments"
   ]
  },
  {
   "cell_type": "markdown",
   "id": "c27bebcc",
   "metadata": {},
   "source": [
    "### The eye\n",
    "\n",
    "In order to understand optical instruments we need to consider how [our eyes](https://en.wikipedia.org/wiki/Human_eye) process incoming light from objects to visualize them. The first refraction for incoming light occurs when light passes from air to the cornea (n~1.376), and the lens (n=1.386-1.406) is adjusted by the muscles around it to accommodate objects at different distances. The eye has a near point which is the shortest distance at which it can focus on an object. This varies from person to person, and with age, but is typically on the order of 25cm.\n",
    "\n",
    "![im.png](images/eyefocus.png)\n"
   ]
  },
  {
   "cell_type": "markdown",
   "id": "53885951",
   "metadata": {},
   "source": [
    "### Corrective Lenses\n",
    "\n",
    "Nearsightedness or myopia is an inability to focus on distant objects, the eye focuses the light to a point in front of the retina. If the rays are diverged by a diverging lens before they reach the eye then the rays are able to be focused on the retina.\n",
    "\n",
    "![im.png](images/myopia.png)\n",
    "\n",
    "Farsightedness or hyperopia is an inability to focus on near objects, the eye focuses the light to a point behind the retina. If the rays are converged by a converging lens before the enter the eye then the rays can be focused on the retina.\n",
    "\n",
    "![im.png](images/hyperopia.png)"
   ]
  },
  {
   "cell_type": "markdown",
   "id": "c85e6a57",
   "metadata": {},
   "source": [
    "### Perceived size of an object\n",
    "\n",
    "The apparent size of an object, and the amount of detail we can resolve, depends on the angle $\\theta$ the object subtends on our retina.\n",
    "\n",
    "![im.png](images/sizeofobjectoneye.png)\n"
   ]
  },
  {
   "cell_type": "markdown",
   "id": "c870a4d9",
   "metadata": {},
   "source": [
    "###  Magnifying Glass\n",
    "\n",
    "The biggest possible size of an object on the eye without the aid of an optical instrument is obtained by placing it at the near point of the eye $N$. If we bring an object closer than the near point then it will occupy a larger angle, but we won't be able to focus on it. This problem can be addressed by a magnifying glass. If we place an object closer than the focal length of the lens, it will produce a virtual image at a distance $d_{i}$. The maximum magnification is achieved by bringing the lens right up to your eye and then arranging the lens, object and your head so that the image is at the near point. To find the magnification we need to know $d_{o}$  which can be found from the lens equation, taking $d_{i}=-N$\n",
    "\n",
    "$\\frac{1}{d_{o}}=\\frac{1}{f}-\\frac{1}{d_{i}}=\\frac{1}{f}+\\frac{1}{N}$\n",
    "\n",
    "In the small angle approximation\n",
    "\n",
    "$\\theta=\\frac{h}{N}$ and  $\\theta';=\\frac{h}{d_{o}}$\n",
    "\n",
    "The angular magnification of the lens, also called the magnifying power is defined as $M=\\frac{\\theta'}{\\theta}$ which we can see here is\n",
    "\n",
    "$M=\\frac{N}{d_{o}}=N(\\frac{1}{f}+\\frac{1}{N})=\\frac{N}{f}+1$\n",
    "\n",
    "![im.png](images/magglassatnearpoint.png)"
   ]
  },
  {
   "cell_type": "markdown",
   "id": "47506f54",
   "metadata": {},
   "source": [
    "### Magnifying glass with image at infinity\n",
    "\n",
    "It is not very convenient to use a magnifying glass with the eye focused at the near point, firstly as we are required to constantly maintain the correct positioning of lens, object and head, but also because our eye muscles are at maximum exertion, which is not very comfortable over long periods of time. An alternative way to use a magnifying glass is to place the object at the focal point of the lens producing an image at $\\infty$. \n",
    "\n",
    "In this case  \n",
    "\n",
    "$\\theta'=\\frac{h}{f}$\n",
    "\n",
    "and the magnifying power is\n",
    "\n",
    "$M=\\frac{\\theta'}{\\theta}=\\frac{N}{f}$\n",
    "\n",
    "![im.png](images/magglassatinfinity.png)"
   ]
  },
  {
   "cell_type": "markdown",
   "id": "6dfa91cf",
   "metadata": {},
   "source": [
    "### Telescopes\n",
    "\n",
    "A magnifying glass is only useful for looking at objects nearby (the maximum object distance from the lens is the focal length). To view distant objects we need to use a [telescope](https://en.wikipedia.org/wiki/Telescope). A refracting telescope uses two lens, and objective and an eyepiece. The objective produces an image which is then magnified by the eyepiece. \n",
    "\n",
    "![im.png](images/refractingtelescope.png)\n",
    "\n",
    "The original apparent object size is \n",
    "\n",
    "$\\theta\\approx\\frac{h}{f_{o}}$\n",
    "\n",
    "If we consider an object at infinity and an eyepiece which is adjusted so that the focus of the eyepiece is at the focus of the objective (this produces a final image at infinity, which is why I chose not to draw it this way on the diagram), then the apparent size of the final image is\n",
    "\n",
    "$\\theta'\\approx\\frac{h}{f_{e}}$\n",
    "\n",
    "giving the magnification power of the telescope as\n",
    "\n",
    "$M=\\frac{\\theta'}{\\theta}=-\\frac{f_{o}}{f_{e}}$\n",
    "\n",
    "with the minus sign signifying that the image is inverted."
   ]
  },
  {
   "cell_type": "markdown",
   "id": "653eef09",
   "metadata": {},
   "source": [
    "### Reflecting telescopes\n",
    "\n",
    "Several fabrication difficulties involved in making large refracting telescopes can be overcome by making [reflecting telescopes](https://en.wikipedia.org/wiki/Reflector_telescope) which use mirrors in the place of an objective lens.  It is much easier to make a large mirror than a large lens, and also make it parabolic so it does not suffer from [spherical abberation](https://en.wikipedia.org/wiki/Spherical_aberration). As they work on reflection, instead of refraction  mirrors do not suffer from [chromatic abberation](https://en.wikipedia.org/wiki/Chromatic_aberration).\n"
   ]
  },
  {
   "cell_type": "markdown",
   "id": "ea49a050",
   "metadata": {},
   "source": [
    "###  Finding the focal length of a diverging lens\n",
    "\n",
    "To find the focal length of a diverging lens can be tricky because when the object is real the image is virtual and therefore cannot be projected on to a screen. The trick is to use a converging lens to produce a virtual object for the diverging lens, which can be projected on to a screen. If you know the focal length of the converging lens you are using you can deduced the focal length by applying the lens equation for each lens and measuring the all the distances in the problem.\n",
    "\n",
    "![im.png](images/divergingfocallength.png)\n",
    "\n",
    "$\\frac{1}{d_{oC}}+\\frac{1}{d_{iC}}=\\frac{1}{f_{C}}$\n",
    "\n",
    "$\\frac{1}{d_{oD}}+\\frac{1}{d_{iD}}=\\frac{1}{f_{D}}$\n",
    "\n",
    "$d_{oD}=x-{d_{iC}}$\n",
    "\n",
    "For this to work $d_{oD}$ should be negative."
   ]
  },
  {
   "cell_type": "code",
   "execution_count": null,
   "id": "25bdc6db",
   "metadata": {},
   "outputs": [],
   "source": []
  }
 ],
 "metadata": {
  "kernelspec": {
   "display_name": "Python 3 (ipykernel)",
   "language": "python",
   "name": "python3"
  },
  "language_info": {
   "codemirror_mode": {
    "name": "ipython",
    "version": 3
   },
   "file_extension": ".py",
   "mimetype": "text/x-python",
   "name": "python",
   "nbconvert_exporter": "python",
   "pygments_lexer": "ipython3",
   "version": "3.9.10"
  }
 },
 "nbformat": 4,
 "nbformat_minor": 5
}

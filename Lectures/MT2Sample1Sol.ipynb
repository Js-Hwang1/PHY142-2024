{
 "cells": [
  {
   "cell_type": "markdown",
   "id": "96221f08",
   "metadata": {},
   "source": [
    "### Question 1 Solutions\n",
    "\n",
    "* A. $\\tau=IAB\\sin\\theta$\n",
    "\n",
    "$A=\\frac{1}{2}\\times l \\times \\frac{\\sqrt{3}}{2}l$\n",
    "\n",
    "$A=\\frac{\\sqrt{3}}{4}l^{2}$\n",
    "\n",
    "$\\tau=\\frac{\\sqrt{3}}{4}l^{2}IB\\sin\\theta$\n",
    "\n",
    "This can also be found by considering the forces and correctly calculating the torques. This is done using the\n",
    "equation for the force ($F=I\\vec{l}\\times\\vec{B}$ and the one for the torque: $\\tau=\\vec{r}\\times\\vec{F}$.). Then you need to integrate the torque equation (because r changes) and multiply by two because there are two torques, one for each side of the triangle.\n",
    "\n",
    "* B. $\\vec{\\mu}=I\\vec{A}=I\\frac{\\sqrt{3}}{4}l^{2}$\n",
    "\n",
    "* C. Using A $\\tau=1.95\\times 10^{-4}\\mathrm{Nm}$\n",
    "\n",
    "$W=\\int_{90^{o}}^{0} \\tau\\,d\\theta$\n",
    "\n",
    "* D. $W=[-\\frac{\\sqrt{3}}{4}l^{2}IB\\cos\\theta]_{90^{o}}^{0}=1.95\\times 10^{-4}\\mathrm{J}$\n",
    "\n",
    "* E. $W=[-\\frac{\\sqrt{3}}{4}l^{2}IB\\cos\\theta]_{90^{o}}^{-90^{o}}=0\\mathrm{J}$\n",
    "\n",
    "* F. 0 m/s\n"
   ]
  },
  {
   "cell_type": "markdown",
   "id": "129d46e3",
   "metadata": {},
   "source": [
    "### Question 2 Solutions\n",
    "\n",
    "A. $\\oint\\vec{B}\\cdot\\,d\\vec{l}=\\mu_{o}I_{enc}$\n",
    "\n",
    "\n",
    "$B2\\pi r=0$\n",
    "\n",
    "\n",
    "$B=0\\mathrm{T}$\n",
    "\n",
    "\n",
    "B. $B2\\pi r=\\mu_{0}j\\pi(r^{2}-r_{1}^2)$\n",
    "\n",
    "\n",
    "$B=\\mu_{0}j\\frac{r^{2}-r_{1}^2}{2r}$\n",
    "\n",
    "\n",
    "C. $B2\\pi r=\\mu_{0}j\\pi(r_{2}^{2}-r_{1}^2)$\n",
    "\n",
    "$B=\\mu_{0}j\\frac{r_{2}^{2}-r_{1}^2}{2r}$\n",
    "\n",
    "D. 0 from 0 to $r_{1}$, an increasing concave down curve from $r_{1}$ to $r_{2}$, a $\\frac{1}{r}$ dependence for $r>r_{2}$.\n",
    "\n",
    "E. We need to find the total current\n",
    "\n",
    "$I=j\\pi(r_{2}^{2}-r_{1}^2)=0.21\\mathrm{A}$\n",
    "\n",
    "$\\frac{I}{e}=1.35\\times 10^{18}$ electrons\n",
    "\n",
    "F. Magnetic field is out of page, from the right hand rule a positive charge would be attracted towards the cylinder, so an electron would be repelled from the cylinder. \n"
   ]
  },
  {
   "cell_type": "code",
   "execution_count": 4,
   "id": "1cc0faeb",
   "metadata": {},
   "outputs": [
    {
     "data": {
      "text/plain": [
       "[<matplotlib.lines.Line2D at 0x1201f7a90>]"
      ]
     },
     "execution_count": 4,
     "metadata": {},
     "output_type": "execute_result"
    },
    {
     "data": {
      "image/png": "[encoded data removed]",
      "text/plain": [
       "<Figure size 432x288 with 1 Axes>"
      ]
     },
     "metadata": {
      "needs_background": "light"
     },
     "output_type": "display_data"
    }
   ],
   "source": [
    "import numpy as np\n",
    "import matplotlib.pyplot as plt\n",
    "\n",
    "r=np.arange(0.1,10,0.1)\n",
    "a=1\n",
    "y=(r**2-1)/2*r\n",
    "plt.plot(r,y)\n"
   ]
  },
  {
   "cell_type": "markdown",
   "id": "b772effd",
   "metadata": {},
   "source": [
    "### Question 3 Solutions\n",
    "\n",
    "A. $B=\\mu_{0}\\frac{N}{l}I=\\mu_{0}\\frac{1}{0.5\\times10^{-3}}\\times 1=8000\\pi\\times 10^{-7} \\mathrm{T}=0.0025\\mathrm{T}$\n",
    "\n",
    "\n",
    "B. $L=\\frac{\\mu_{0}N^{2}A}{l}=\\mu_0\\times\\frac{N}{l}NA$\n",
    "\n",
    "\n",
    "$\\pi r^{2}=.0002$\n",
    "\n",
    "$r=.00798\\mathrm{m}$\n",
    "\n",
    "$N=\\frac{10}{2\\pi r}=200$\n",
    "\n",
    "$L=4\\pi\\times 10^{-7}\\times2000\\times 200\\times0.0002=1\\times10^{-4}\\mathrm{H}$\n",
    "\n",
    "C. $\\mathcal{E}=N\\frac{d\\Phi_{B}}{dt}=N\\frac{dA}{dt}B=200\\frac{0.0002}{0.05}0.1=0.08\\mathrm{V}$\n"
   ]
  },
  {
   "cell_type": "code",
   "execution_count": null,
   "id": "ba6a3603",
   "metadata": {},
   "outputs": [],
   "source": []
  }
 ],
 "metadata": {
  "kernelspec": {
   "display_name": "Python 3 (ipykernel)",
   "language": "python",
   "name": "python3"
  },
  "language_info": {
   "codemirror_mode": {
    "name": "ipython",
    "version": 3
   },
   "file_extension": ".py",
   "mimetype": "text/x-python",
   "name": "python",
   "nbconvert_exporter": "python",
   "pygments_lexer": "ipython3",
   "version": "3.9.10"
  }
 },
 "nbformat": 4,
 "nbformat_minor": 5
}

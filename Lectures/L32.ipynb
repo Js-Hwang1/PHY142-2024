{
 "cells": [
  {
   "cell_type": "markdown",
   "id": "f52890dc",
   "metadata": {},
   "source": [
    "## Lecture 33 - Interference"
   ]
  },
  {
   "cell_type": "markdown",
   "id": "c15ab213",
   "metadata": {},
   "source": [
    "### Huygen's Principle\n",
    "\n",
    "The ray model of light we have been using in the last few lectures works well when light interacts with objects that are large compared to the wavelength.  For objects that have features on the same or smaller length scale as the wavelength of the light we need to consider wave effects.\n",
    "\n",
    "When we introduced refraction we invoked [Huygen's principle](https://en.wikipedia.org/wiki/Huygens–Fresnel_principle), which explicitly uses a wave model to explain refraction. We can also use this model to explain some other important effects that occur, particularly interference and diffraction\n",
    "\n",
    "Huygen's principle states that every point on a wavefront can be considered to be the centre of a new secondary spherical wave, and the sum of these secondary waves determines the form of the wavefront at any subsequent time. \n",
    "\n",
    "![im.png](images/refractionHuygens.png)\n",
    "\n",
    "$\\sin \\theta_1 =\\frac{v_1t}{AD}$\n",
    "\n",
    "$\\sin \\theta_2 =\\frac{v_2t}{AD}$\n",
    "\n",
    "$v_i =c/n_i$\n",
    "\n",
    "$n_1 \\sin \\theta_1 = n_2 \\sin \\theta_2$\n"
   ]
  },
  {
   "cell_type": "markdown",
   "id": "039603e5",
   "metadata": {},
   "source": [
    "## Young's double slit experiment\n",
    "\n",
    "When we considered sound last semester we saw that two speakers placed some distance apart from each other the sound waves [interfere]() with each other. As light is a wave we should expect similar effects to occur for light. This is indeed the case, if we shine monochromatic coherent light on a pair of slits we see an interference pattern. We can treat each of the slits as a point source of circular wavefronts. The condition for constructive interference (bright fringes) is\n",
    "\n",
    "$d\\sin(\\theta)=m\\lambda$\n",
    "\n",
    "(m=0,1,2,..)\n",
    "\n",
    "and for destructive interference (dark fringes)\n",
    "\n",
    "$d\\sin\\theta=(m+\\frac{1}{2})\\lambda$\n",
    "\n",
    "(m=0,1,2,..)\n",
    "\n",
    "![im.png](images/youngsdoubleslit.png)"
   ]
  },
  {
   "cell_type": "markdown",
   "id": "b52b94a7",
   "metadata": {},
   "source": [
    "### Line spacing for a double slit\n",
    "\n",
    "![im.png](images/2slitfirngespacing.png)\n",
    "\n",
    "Note here $x_1$ is the position of the first minimum (m=0) and $x_2$ of the second maximum (m=1)\n",
    "\n",
    "For small angles the angles $\\theta_{1}$ and $\\theta_{2}$ can be approximated as \n",
    "\n",
    "$\\theta_{1}=\\frac{\\lambda}{2d}$ and $\\theta_{2}=\\frac{\\lambda}{d}$\n",
    "\n",
    "The positions of the fringes are\n",
    "\n",
    "$x_{1}=l\\tan\\theta_{1}\\approx l\\theta_{1}$ and $x_{2}=l\\tan\\theta_{2}\\approx l\\theta_{2}$\n",
    "\n",
    "So we can see that if the screen is far from the slit the fringes are approximately equally spaced from each other."
   ]
  },
  {
   "cell_type": "markdown",
   "id": "c78c372d",
   "metadata": {},
   "source": [
    "### Reflection from a transparent medium\n",
    "\n",
    "As in the case of a wave on a rope that is incident on a heavier rope and is reflected with a 180$^o$ phase change when a light wave is reflected from a more optically dense media a 180$^o$ phase change occurs. This effect is important when we want to consider interference effects in thin films.\n",
    "\n",
    "![im.png](images/reflectionphasechange.png)\n",
    "\n",
    "In the absence of interference, the degree to which reflection occurs is given by the reflection coefficient $R$ which at normal incidence for light going from a medium with refractive index $n_{0}$ to one with refractive index $n_{1}$ is given by\n",
    "\n",
    "$R=(\\frac{n_{0}-n_{1}}{n_{0}+n_{1}})^2$\n",
    "\n",
    "The transmission $T$ and reflectance $R$ add to 1 and represent the fraction of the incident light intensity that is either transmitted or reflected.\n"
   ]
  },
  {
   "cell_type": "markdown",
   "id": "69600d2b",
   "metadata": {},
   "source": [
    "### Anti reflective coating\n",
    "\n",
    "For most lens we want as much of the incident light to be transmitted as possible. Suppose we take a glass lens with refractive index $n=1.52$. We can see from the reflectance equation \n",
    "\n",
    "$R=(\\frac{n_{0}-n_{1}}{n_{0}+n_{1}})^2=(\\frac{1-1.52}{1+1.52})^2=0.043$\n",
    "\n",
    "that about 4% of the incident light is reflected. This percentage can be reduced by the use of an [anti reflective coating](https://en.wikipedia.org/wiki/Anti-reflective_coating). Ideally we would use a coating that produced an equal amount of reflection at both interfaces, but there is no suitable material with the required refractive index,  $n=1.26$,  so we use magnesium flouride MgF$_2$.\n",
    "\n",
    "![im.png](images/antreflectivecoating.png)\n",
    "\n",
    "As the two reflections both occur from more optically dense media they both experience a phase change of $\\pi$ on reflection which corresponds to advancing the wave by $\\frac{\\lambda}{2}$ . To have the light be out of phase we need the light that goes through the coating to have advanced by $\\frac{\\lambda}{2}$ for destructive interference to occur. Critically, when destructive interference occurs the light is not lost, but is instead transmitted. As the wavelength of light in a medium is given by $\\lambda=\\frac{\\lambda_{0}}{n}$ where $n$ is the refractive index of the medium and $\\lambda_{0}$ is the wavelength of the light in free space, the thickness of the coating should be $2d_{coating}=\\frac{\\lambda_{n2}}{2}$\n",
    "\n",
    "$d_{coating}=\\frac{\\lambda}{4n_{2}}$.\n",
    "\n",
    "In practice the light incident will not all be the same wavelength, so the thickness of the coating is typically chosen to work optimally in the center of the visible band (~550nm).\n"
   ]
  },
  {
   "cell_type": "markdown",
   "id": "951135a0",
   "metadata": {},
   "source": [
    "### Air wedge\n",
    "\n",
    "Interference effects can also be observed when light is reflected from the gap between two glass surfaces, which leads to the phenomena known as [Newton's Rings](https://en.wikipedia.org/wiki/Newton's_rings). A similar problem is that of the air wedge\n",
    "\n",
    "![im.png](images/airwedge.png)\n",
    "\n",
    "For a single wavelength dark stripes will occur whenever \n",
    "\n",
    "$2t=m\\lambda$\n",
    "\n",
    "(m=0,1,2,..)\n",
    "\n",
    "and bright stripes will occur whenever \n",
    "\n",
    "$2t=(m+\\frac{1}{2})\\lambda$\n",
    "\n",
    "(m=0,1,2,..)\n",
    "\n",
    "For white light different colors will experience constructive interference at different thicknesses, leading to the colorful lines we see when an air gap is under normal light."
   ]
  },
  {
   "cell_type": "markdown",
   "id": "a37b7b32",
   "metadata": {},
   "source": [
    "### Michelson Interferometer\n",
    "\n",
    "[Michelson Interferometer](https://en.wikipedia.org/wiki/Michelson_interferometer)"
   ]
  },
  {
   "cell_type": "code",
   "execution_count": 29,
   "id": "07b4c630",
   "metadata": {},
   "outputs": [
    {
     "data": {
      "text/plain": [
       "28.571428571428573"
      ]
     },
     "execution_count": 29,
     "metadata": {},
     "output_type": "execute_result"
    }
   ],
   "source": [
    "100/3.5"
   ]
  },
  {
   "cell_type": "code",
   "execution_count": 31,
   "id": "33c04ffa",
   "metadata": {},
   "outputs": [
    {
     "data": {
      "text/plain": [
       "12.742382271468143"
      ]
     },
     "execution_count": 31,
     "metadata": {},
     "output_type": "execute_result"
    }
   ],
   "source": [
    "1/(3.5/100+1/23)"
   ]
  },
  {
   "cell_type": "code",
   "execution_count": 25,
   "id": "75028874",
   "metadata": {},
   "outputs": [
    {
     "data": {
      "text/plain": [
       "1.625"
      ]
     },
     "execution_count": 25,
     "metadata": {},
     "output_type": "execute_result"
    }
   ],
   "source": [
    "3.25/2"
   ]
  },
  {
   "cell_type": "code",
   "execution_count": null,
   "id": "71310be1",
   "metadata": {},
   "outputs": [],
   "source": []
  }
 ],
 "metadata": {
  "kernelspec": {
   "display_name": "Python 3 (ipykernel)",
   "language": "python",
   "name": "python3"
  },
  "language_info": {
   "codemirror_mode": {
    "name": "ipython",
    "version": 3
   },
   "file_extension": ".py",
   "mimetype": "text/x-python",
   "name": "python",
   "nbconvert_exporter": "python",
   "pygments_lexer": "ipython3",
   "version": "3.9.10"
  }
 },
 "nbformat": 4,
 "nbformat_minor": 5
}

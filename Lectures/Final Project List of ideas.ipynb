{
 "cells": [
  {
   "cell_type": "markdown",
   "id": "6f305f45",
   "metadata": {},
   "source": [
    "* [Triboelectric nanogenerator](https://education.mrsec.wisc.edu/triboelectric-nanogenerator/)\n",
    "* [electroscope](https://education.mrsec.wisc.edu/do-it-yourself-electroscope/)\n",
    "* [Explain the Wimshurst machine](https://en.wikipedia.org/wiki/Wimshurst_machine) [also here](https://www.coe.ufrj.br/~acmq/whyhow.html)\n",
    "* [Jacob's Ladder](https://www.youtube.com/watch?v=ZO2GwTio_HM)\n",
    "* [Dielectric constant of Salt water using a capacitor]"
   ]
  },
  {
   "cell_type": "code",
   "execution_count": null,
   "id": "149969d1",
   "metadata": {},
   "outputs": [],
   "source": []
  }
 ],
 "metadata": {
  "kernelspec": {
   "display_name": "Python 3 (ipykernel)",
   "language": "python",
   "name": "python3"
  },
  "language_info": {
   "codemirror_mode": {
    "name": "ipython",
    "version": 3
   },
   "file_extension": ".py",
   "mimetype": "text/x-python",
   "name": "python",
   "nbconvert_exporter": "python",
   "pygments_lexer": "ipython3",
   "version": "3.9.10"
  }
 },
 "nbformat": 4,
 "nbformat_minor": 5
}

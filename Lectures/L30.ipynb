{
 "cells": [
  {
   "cell_type": "markdown",
   "id": "113392bc",
   "metadata": {},
   "source": [
    "## Lecture 30, Lenses"
   ]
  },
  {
   "cell_type": "markdown",
   "id": "0202d24c",
   "metadata": {},
   "source": [
    "### Thin lenses\n",
    "\n",
    "A [lens](https://en.wikipedia.org/wiki/Lens_(optics)) makes use of the refractive properties of a material to focus light. The basic building blocks of lenses are faces that are  either spherical or plane, and the spherical faces can either curve outwards (convex) or inwards (concave).\n",
    "\n",
    "The key property of a lens is that it focuses rays traveling parallel to the axis to a particular point, the focal point, which is a distance $f$ from the center of the lens. $f$ is defined as the focal length of the lens.\n",
    "\n",
    "A related measurement of the focusing ability of a lens is the power $P$\n",
    "\n",
    "$P=\\frac{1}{f}$\n",
    "\n",
    "measured in Diopters ($\\mathrm{D}$) which are equivalent to $\\mathrm{m^{-1}}$"
   ]
  },
  {
   "cell_type": "markdown",
   "id": "9170215a",
   "metadata": {},
   "source": [
    "### Converging lens\n",
    "\n",
    "A lens which is thicker in the center than at the edges is a converging lens, an incoming parallel beam of light will be focused to a point $F$ at $x=f$ from the center of the lens. \n",
    "\n",
    "To obtain a parallel beam of light light should be radially propagating outwards from the point $F'$ a distance $x=-f$ from the center of the lens.\n",
    "\n",
    "![im.png](images/converginglensnew.png)\n",
    "\n",
    "[Converging Lens](https://www.physicsclassroom.com/Physics-Interactives/Refraction-and-Lenses/Optics-Bench/Optics-Bench-Refraction-Interactive) applet.\n"
   ]
  },
  {
   "cell_type": "markdown",
   "id": "50505ad2",
   "metadata": {},
   "source": [
    "### Diverging Lens\n",
    "\n",
    "A lens which is thinner in the center than at the edges is a diverging lens, an incoming parallel beam of light will be focused to a point $F$ at $x=-f$ from the center of the lens, which means that the rays appear to diverge outwards from that point. \n",
    "\n",
    "To obtain a parallel beam of light light the incoming rays should have a path such that they would go to the point $F'$ a distance $x=f$ from the center of the lens if the lens were not there.\n",
    "\n",
    "![im.png](images/diverginglensnew.png)\n",
    "\n",
    "[Diverging Lens](https://www.physicsclassroom.com/Physics-Interactives/Refraction-and-Lenses/Optics-Bench/Optics-Bench-Refraction-Interactive) applet."
   ]
  },
  {
   "cell_type": "markdown",
   "id": "3f450a5a",
   "metadata": {},
   "source": [
    "### Lensmaker equation I\n",
    "\n",
    "How can we get from our laws of refraction to a rule for how to make a lens with a particular focal length? The answer is through the [lensmaker equation](https://en.wikipedia.org/wiki/Lens_(optics)#Lensmaker.27s_equation), which here we will consider in the simplified case of a thin lens. Throughout our derivation we will frequently use approximations that are only valid when the thickness of the lens is significantly less than the radius of curvature.\n",
    "\n",
    "![im.png](images/lensmakerequation.png)\n",
    "\n",
    "The first step is to apply Snell's law to the two interfaces\n",
    "\n",
    "$\\theta_{1}\\approx n \\theta_{2}$<br/>\n",
    "\n",
    "$\\theta_{4}\\approx n \\theta_{3}$\n",
    "\n",
    "Then we find 3 triangles which give us \n",
    "\n",
    "$\\theta_{1}\\approx\\sin\\theta_{1}\\approx\\frac{h_{1}}{R_{1}}$\n",
    "\n",
    "$\\alpha\\approx\\sin\\alpha\\approx\\frac{h_{2}}{R_{2}}$\n",
    "\n",
    "$\\beta\\approx\\tan\\beta\\approx\\frac{h_{2}}{f}$\n",
    "\n",
    "We can also find from inspection that\n",
    "\n",
    "$\\gamma=\\theta_{1}-\\theta_{2}$\n",
    "\n",
    "$\\theta_{4}=\\alpha+\\beta$\n",
    "\n",
    "and from the angles around the point at the tip of the $h_{2}$ line\n",
    "\n",
    "$(\\frac{\\pi}{2}-\\alpha)+\\theta_{3}+(\\frac{\\pi}{2}-\\gamma)=\\pi\\to\\alpha=\\theta_{3}-\\gamma$\n",
    "\n",
    "Our goal is to now combine these equations to arrive at a an equation in terms of the lens radii and refractive index which is what a lensmaker can control.\n"
   ]
  },
  {
   "cell_type": "markdown",
   "id": "f6b3db91",
   "metadata": {},
   "source": [
    "### Lensmaker equation II\n",
    "\n",
    "1.- $\\theta_{1}\\approx n \\theta_{2}$\n",
    "\n",
    "2.- $\\theta_{4}\\approx n \\theta_{3}$\n",
    "\n",
    "3.- $\\theta_{1}\\approx\\sin\\theta_{1}\\approx\\frac{h_{1}}{R_{1}}$\n",
    "\n",
    "4.- $\\alpha\\approx\\sin\\alpha\\approx\\frac{h_{2}}{R_{2}}$\n",
    "\n",
    "5.- $\\beta\\approx\\sin\\beta\\approx\\frac{h_{2}}{f}$\n",
    "\n",
    "6.- $\\gamma=\\theta_{1}-\\theta_{2}$\n",
    "\n",
    "7.- $\\theta_{4}=\\alpha+\\beta$\n",
    "\n",
    "8.- $\\alpha=\\theta_{3}-\\gamma$\n",
    "\n",
    "Using **8**, and substituting in **6**, and **2**\n",
    "\n",
    "$\\alpha=\\frac{\\theta_{4}}{n}-(\\theta_{1}-\\theta_{2})$\n",
    "\n",
    "\n",
    "Now using **7**\n",
    "\n",
    "\n",
    "$\\alpha=\\frac{\\alpha}{n}+\\frac{\\beta}{n}-\\theta_{1}+\\theta_{2}$\n",
    "\n",
    "\n",
    "and then **1**\n",
    "\n",
    "\n",
    "$\\alpha=\\frac{\\alpha}{n}+\\frac{\\beta}{n}-\\theta_{1}+\\frac{\\theta_{1}}{n}$\n",
    "\n",
    "We now use equations **3**,**4** and **5** to write\n",
    "\n",
    "\n",
    "$\\frac{h_{2}}{R_{2}}=\\frac{h_{2}}{nR_{2}}+\n",
    "\\frac{h_{2}}{nf}-\\frac{h_{1}}{R_{1}}+\\frac{h_{1}}{n_{R_{1}}}$\n",
    "\n",
    "We once again turn to the thin lens approximation and say $h_{1}\\approx h_{2}=h$ which allows us to cancel out $h$, and on multiplying both sides by $n$ and rearranging we get our equation\n",
    "\n",
    "$\\frac{1}{f}=(n-1)(\\frac{1}{R_{1}}+\\frac{1}{R_{2}})$\n"
   ]
  },
  {
   "cell_type": "markdown",
   "id": "f0fee23a",
   "metadata": {},
   "source": [
    "### Raytracing for a converging lens\n",
    "\n",
    "To find the image position for a lens we can use a technique called raytracing. We only need to use 3 rays to find an image for a given object (provided we know the focal length of the lens).\n",
    "\n",
    "* A ray that leaves the object parallel to the axis and then goes through $F$\n",
    "\n",
    "* A ray that passes through the center of the lens and is not bent\n",
    "\n",
    "* A ray that passes through $F'$ and exits parallel to the axis\n",
    "\n",
    "![im.png](images/raytraceconverge.png)"
   ]
  },
  {
   "cell_type": "markdown",
   "id": "3f3d407d",
   "metadata": {},
   "source": [
    "### Raytracing for a diverging lens\n",
    "\n",
    "To find the image position for a lens we can use a technique called raytracing. We only need to use 3 rays to find an image for a given object (provided we know the focal length of the lens).\n",
    "\n",
    "* A ray that leaves the object parallel to the axis and then goes through $F$\n",
    "\n",
    "* A ray that passes through the center of the lens and is not bent\n",
    "\n",
    "* A ray that passes through $F'$ and exits parallel to the axis\n",
    "\n",
    "![im.png](images/raytracingdiverge.png)"
   ]
  },
  {
   "cell_type": "markdown",
   "id": "0ec30f30",
   "metadata": {},
   "source": [
    "### Lens equation\n",
    "\n",
    "Ray tracing can be a pain, so it is useful to have a lens equation like we had for mirrors that links the important quantities, $d_{o}$, $d_{i}$ and $f$.\n",
    "\n",
    "![im.png](images/lensequation.png)\n",
    "\n",
    "From the orange similar triangles\n",
    "\n",
    "$\\frac{h_{i}}{h_{o}}=\\frac{d_{i}-f}{f}$\n",
    "\n",
    "and from the green ones\n",
    "\n",
    "$\\frac{h_{i}}{h_{o}}=\\frac{d_{i}}{d_{o}}$\n",
    "\n",
    "so\n",
    "\n",
    "$\\frac{d_{i}-f}{f}=\\frac{d_{i}}{d_{o}}\\to\\frac{1}{f}-\\frac{1}{d_{i}}=\\frac{1}{d_{o}}$\n",
    "\n",
    "which leads to the lens equation\n",
    "\n",
    "$\\frac{1}{d_{o}}+\\frac{1}{d_{i}}=\\frac{1}{f}$\n",
    "\n",
    "This equation also works for diverging lens (with $d_{i}$ and $f$ negative).\n",
    "\n",
    "As with mirrors, the magnification $m$ is\n",
    "\n",
    "$m=\\frac{h_{i}}{h_{0}}=-\\frac{d_{i}}{d_{o}}$"
   ]
  },
  {
   "cell_type": "markdown",
   "id": "46e1d3f8",
   "metadata": {},
   "source": [
    "### Two converging lenses\n",
    "\n",
    "![im.png](images/twoconverginglens.png)\n",
    "\n",
    "Combinations of lens can be treated sequentially, by first finding the image produced by the first lens and then then using it as the object for the next lens.\n",
    "\n",
    "Applying the lens equation to the first lens\n",
    "\n",
    "$\\frac{1}{d_{iA}}=\\frac{1}{f_{A}}-\\frac{1}{d_{oA}}$\n",
    "\n",
    "and to the second lens\n",
    "\n",
    "$\\frac{1}{d_{iB}}=\\frac{1}{f_{B}}-\\frac{1}{d_{oB}}$\n",
    "\n",
    "and then using $d_{oB}=l-d_{iA}$ allows the determination of the final image position.\n",
    "\n",
    "The first lens produces an image that has height $-\\frac{d_{iA}}{d_{oA}}h_{o}$, which will then be used as the object height in the next lens, so the final image has height\n",
    "\n",
    "$\\frac{d_{iA}}{d_{oA}}\\frac{d_{iB}}{d_{oB}}h_{o}$\n",
    "\n",
    "When considering the multiplying power of lens combinations (total magnification) we can simply multiply the effects of the individual lens ($m_t=\\prod_i m_i$)."
   ]
  },
  {
   "cell_type": "code",
   "execution_count": null,
   "id": "7718c865",
   "metadata": {},
   "outputs": [],
   "source": []
  },
  {
   "cell_type": "code",
   "execution_count": null,
   "id": "216c218f",
   "metadata": {},
   "outputs": [],
   "source": []
  }
 ],
 "metadata": {
  "kernelspec": {
   "display_name": "Python 3 (ipykernel)",
   "language": "python",
   "name": "python3"
  },
  "language_info": {
   "codemirror_mode": {
    "name": "ipython",
    "version": 3
   },
   "file_extension": ".py",
   "mimetype": "text/x-python",
   "name": "python",
   "nbconvert_exporter": "python",
   "pygments_lexer": "ipython3",
   "version": "3.9.10"
  }
 },
 "nbformat": 4,
 "nbformat_minor": 5
}

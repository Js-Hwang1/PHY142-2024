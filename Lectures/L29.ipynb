{
 "cells": [
  {
   "cell_type": "markdown",
   "id": "49ff7f92",
   "metadata": {},
   "source": [
    "## Lecture 29 - Refraction"
   ]
  },
  {
   "cell_type": "markdown",
   "id": "19b6e26a",
   "metadata": {},
   "source": [
    "### Speed of light in a medium\n",
    "\n",
    "We derived earlier that light in a vacuum, as it is an electromagnetic wave, should travel with a constant speed\n",
    "\n",
    "$c=\\sqrt{\\frac{1}{\\mu_{0}\\varepsilon_{0}}}=3.00\\times10^{8}\\,\\mathrm{m/s}$\n",
    "\n",
    "What about when it travels in a medium? Many materials absorb light, others reflect it, and in transparent materials, which we will discuss here, light is absorbed and remitted as it passes through the material, which has the effect of slowing it down. The extent to which this happens depends on the wavelength of the light and we will see later that this leads to [dispersion](https://en.wikipedia.org/wiki/Dispersion_(optics)).\n",
    "\n",
    "See here for a [cartoon animation](http://www.physicsclassroom.com/mmedia/waves/em.cfm) of the process."
   ]
  },
  {
   "cell_type": "markdown",
   "id": "2affba4e",
   "metadata": {},
   "source": [
    "### Refractive index\n",
    "\n",
    "A useful way to describe a material in terms of it's <a href=\"\" class=\"interwiki iw_wp\" title=\"https://en.wikipedia.org/wiki/Refractive_index\">refractive index</a>. The velocity of light in a medium is related to it&#039;s velocity in free space by the refractive index $n$ through the equation\n",
    "</p>\n",
    "\n",
    "<p>\n",
    "$v=\\frac{c}{n}$\n",
    "</p>\n",
    "\n",
    "<p>\n",
    "<a href=\"https://en.wikipedia.org/wiki/List_of_refractive_indices\" class=\"interwiki iw_wp\" title=\"https://en.wikipedia.org/wiki/List_of_refractive_indices\">Refractive indices of materials</a> are typically somewhere between 1 (vacuum) and ~2.5 (diamond, strontium titanate). Glass will typically have a refractive index of about 1.5 though the exact value depends on the type of glass.\n",
    "</p>\n",
    "\n",
    "<p>\n",
    "We can recall that the velocity of a wave is given $v=f\\lambda$, when light is traveling in a medium, the frequency $f$ does not change, the wavelength $\\lambda$ changes according to \n",
    "</p>\n",
    "\n",
    "<p>\n",
    "$\\lambda=\\frac{\\lambda_{0}}{n}$\n",
    "</p>\n",
    "\n",
    "</div>"
   ]
  },
  {
   "cell_type": "markdown",
   "id": "32bbd8e3",
   "metadata": {},
   "source": [
    "### Huygen's Principle\n",
    "\n",
    "When light enters a medium with a different refractive index as well as changing it's speed it also changes it's angle. This can be understood based upon the wave nature of light by applying [Huygen's principle](https://en.wikipedia.org/wiki/Huygens–Fresnel_principle). Huygen's principle states that every point on a wavefront can be considered to be the centre of a new secondary spherical wave, and the sum of these secondary waves determines the form of the wavefront at any subsequent time. Click [here](http://upload.wikimedia.org/wikipedia/commons/b/b7/Refraction_-_Huygens-Fresnel_principle.svg) for a diagram showing how refraction follows from Huygen's principle. \n",
    "\n"
   ]
  },
  {
   "cell_type": "markdown",
   "id": "6b238eea",
   "metadata": {},
   "source": [
    "### Snell's Law\n",
    "\n",
    "[Snell's Law](https://en.wikipedia.org/wiki/Snell's_law), originally obtained experimentally, first by [Ibn Sahl](https://en.wikipedia.org/wiki/Ibn_Sahl) in 984 and then again by [Willebrord Snellius](https://en.wikipedia.org/wiki/Willebrord_Snellius) in 1621, can be derived in several different ways from the wave nature of light, but for now we will simply state it\n",
    "\n",
    "$n_{1}\\sin\\theta_{1}=n_{2}\\sin\\theta_{2}$\n",
    "\n",
    "The refractive index of the medium the light is traveling out of is $n_{1}$, the refractive index of the material the light is traveling in to is $n_{2}$ and both the angle of incidence $\\theta_{1}$ and refraction $\\theta_{2}$ are defined relative to the normal to the surface.\n",
    "\n",
    "![im.png](images/snellslaw.png)\n",
    "\n",
    "A refraction simulator can be found [here](https://phet.colorado.edu/sims/html/bending-light/latest/bending-light_en.html) and a Wolfram demonstration showing Snell's Law in terms of wavefronts can be found [here](http://demonstrations.wolfram.com/SnellsLawOfRefractionWaveFronts/)."
   ]
  },
  {
   "cell_type": "markdown",
   "id": "991c4a8d",
   "metadata": {},
   "source": [
    "### Refraction through a slab\n",
    "\n",
    "As light is refracted at both the entrance and exit interfaces when it passes through a slab we can see that the angle it exits at is the same as the one it enters at, even though while traveling through the slab, the light is bent, which means it comes out of the slab at a different point from it where it would have if it had not been bent. We can [see](http://demonstrations.wolfram.com/RefractionThroughParallelFaces/) this is true for all angles of incidence.\n",
    "\n",
    "![im.png](images/refractionthroughslab.png)"
   ]
  },
  {
   "cell_type": "markdown",
   "id": "5be7e8fa",
   "metadata": {},
   "source": [
    "### Apparent depth\n",
    "\n",
    "When viewed from above submerged objects appear to be less deep than the really are.\n",
    "\n",
    "![im.pmg](images/apparentdepth.png)\n",
    "\n",
    "Making the approximation that the angles for the two rays are approximately the same, we can deduce the depth at which our brain will tell us the object is (our brain does not correct for refraction and assumes light does not bend).\n",
    "\n",
    "We will also assume that all the angles are small so that we can write $\\sin\\theta\\approx\\tan\\theta\\approx\\theta$\n",
    "\n",
    "From geometric construction we can see that\n",
    "\n",
    "$\\frac{x}{d}=\\tan\\theta_{1}\\approx\\theta_{1}$\n",
    "\n",
    "and\n",
    "\n",
    "$\\frac{x}{d'}=\\tan\\theta_{2}\\approx\\theta_{2}$\n",
    "</p>\n",
    "\n",
    "<p>\n",
    "As Snell's law gives us\n",
    "\n",
    "$\\sin\\theta_{2}= n_{1}\\sin\\theta_{1}\\to\\theta_{2}\\approx n_{1}\\theta_{1}$\n",
    "\n",
    "We can see that $d'=\\frac{d}{n_{1}}$. If the object is in water ($n$=1.33) then $d'=\\frac{3}{4}d$\n"
   ]
  },
  {
   "cell_type": "markdown",
   "id": "85fb5a95",
   "metadata": {},
   "source": [
    "### Total internal reflection\n",
    "\n",
    "For light leaving a more optically dense medium and entering a less optically dense one there is a maximum incident angle, the critical angle $\\theta_{C}$ above which light is completely reflected, which we refer to as [total internal reflection](https://en.wikipedia.org/wiki/Total_internal_reflection).\n",
    "\n",
    "The critical angle can be found from the condition that the refracted angle is $90^{o}$\n",
    "\n",
    "$\\sin\\theta_{C}=\\frac{n_{2}}{n_{1}}\\sin 90^{o}=\\frac{n_{2}}{n_{1}}$\n",
    "\n",
    "\n",
    "![im.png](images/tir.png)"
   ]
  },
  {
   "cell_type": "markdown",
   "id": "f07d7b88",
   "metadata": {},
   "source": [
    "### Fiber optics\n",
    "\n",
    "[Optical fibers](https://en.wikipedia.org/wiki/Optical_fiber) make use of total internal reflection to confine light to a path. The fiber is composed of different kind of glass which are doped differently so that the inner fiber has a higher refractive index than the outer fiber.\n",
    "\n",
    "The concept can be effectively demonstrated with a laser and some perspex tubes.\n"
   ]
  },
  {
   "cell_type": "markdown",
   "id": "e1d11868",
   "metadata": {},
   "source": [
    "### Dispersion\n",
    "\n",
    "[Dispersion](https://en.wikipedia.org/wiki/Dispersion_(optics)) is an effect where the different colors of light are bent differently due to the fact that the refractive index is not necessarily the same for all wavelengths. A common example of this is the generation of a spectrum from a white light beam using a prism.\n",
    "\n",
    "[Rainbow's](https://en.wikipedia.org/wiki/Rainbow) are also examples of dispersion and are generated by light reflected within spherical raindrops.\n",
    "\n",
    "Another atmospheric dispersion phenomena is the [green flash](https://en.wikipedia.org/wiki/Green_flash) which can be seen (rarely) at [sunset](https://www.google.com/search?q=green+flash+video&oq=green+flash+video&aqs=chrome..69i57.4929j0j7&sourceid=chrome&ie=UTF-8#fpstate=ive&vld=cid:3d8ca969,vid:lwus2nqU0SY). \n",
    "\n",
    "Explanation below taken from[here](https://aty.sdsu.edu/explain/explain.html)\n",
    "\n",
    "*The basic cause of the color is atmospheric dispersion : refraction by air is larger at shorter wavelengths. So, at sunset, the refractive delay of the sunset is usually a second or two longer for blue and violet than for red. In general, then, the red image of the Sun (or of some miraged part of it) sets or disappears first, followed by yellow, green, blue and violet.*\n",
    "\n",
    "*So why isn't violet the last color to be seen at sunset? There is another effect at work: atmospheric extinction . Both air molecules and aerosol particles scatter  the shortest wavelengths most strongly (which is why the sky is blue: the strongly-scattered blue light goes in all directions, so we see it when we look anywhere in the sky). At the horizon, the path length through the air is very long, and the shortest wavelengths are almost completely removed.*\n",
    "\n",
    "*Scattering by molecules alone is not quite enough to make the shortest wavelengths invisible; so if the air is very clear, violet is the last color seen. But usually there is enough haze in the air that violet, and even blue, is completely removed, so that green is the last color seen at sunset, or the first at sunrise.*"
   ]
  },
  {
   "cell_type": "code",
   "execution_count": 1,
   "id": "eeb12fdf",
   "metadata": {},
   "outputs": [
    {
     "data": {
      "text/plain": [
       "513088"
      ]
     },
     "execution_count": 1,
     "metadata": {},
     "output_type": "execute_result"
    }
   ],
   "source": [
    "515000-1912"
   ]
  },
  {
   "cell_type": "code",
   "execution_count": 2,
   "id": "91ecb472",
   "metadata": {},
   "outputs": [
    {
     "data": {
      "text/plain": [
       "-51388"
      ]
     },
     "execution_count": 2,
     "metadata": {},
     "output_type": "execute_result"
    }
   ],
   "source": [
    "461700-513088"
   ]
  },
  {
   "cell_type": "code",
   "execution_count": null,
   "id": "e35e93f3",
   "metadata": {},
   "outputs": [],
   "source": []
  }
 ],
 "metadata": {
  "kernelspec": {
   "display_name": "Python 3 (ipykernel)",
   "language": "python",
   "name": "python3"
  },
  "language_info": {
   "codemirror_mode": {
    "name": "ipython",
    "version": 3
   },
   "file_extension": ".py",
   "mimetype": "text/x-python",
   "name": "python",
   "nbconvert_exporter": "python",
   "pygments_lexer": "ipython3",
   "version": "3.9.10"
  }
 },
 "nbformat": 4,
 "nbformat_minor": 5
}
